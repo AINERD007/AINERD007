{
  "nbformat": 4,
  "nbformat_minor": 0,
  "metadata": {
    "colab": {
      "provenance": [],
      "authorship_tag": "ABX9TyONVP1Z+/rZveTp49zTSZ0m",
      "include_colab_link": true
    },
    "kernelspec": {
      "name": "python3",
      "display_name": "Python 3"
    },
    "language_info": {
      "name": "python"
    }
  },
  "cells": [
    {
      "cell_type": "markdown",
      "metadata": {
        "id": "view-in-github",
        "colab_type": "text"
      },
      "source": [
        "<a href=\"https://colab.research.google.com/github/AINERD007/AINERD007/blob/main/Web_Scraping_with_BeautifulSoup_and_Requests.ipynb\" target=\"_parent\"><img src=\"https://colab.research.google.com/assets/colab-badge.svg\" alt=\"Open In Colab\"/></a>"
      ]
    },
    {
      "cell_type": "code",
      "execution_count": 1,
      "metadata": {
        "colab": {
          "base_uri": "https://localhost:8080/"
        },
        "id": "yGHeNEOUQzpm",
        "outputId": "b5acb46c-fa22-44e1-df7d-c21856c23a48"
      },
      "outputs": [
        {
          "output_type": "stream",
          "name": "stdout",
          "text": [
            "Requirement already satisfied: requests in /usr/local/lib/python3.10/dist-packages (2.31.0)\n",
            "Requirement already satisfied: beautifulsoup4 in /usr/local/lib/python3.10/dist-packages (4.11.2)\n",
            "Requirement already satisfied: charset-normalizer<4,>=2 in /usr/local/lib/python3.10/dist-packages (from requests) (3.3.0)\n",
            "Requirement already satisfied: idna<4,>=2.5 in /usr/local/lib/python3.10/dist-packages (from requests) (3.4)\n",
            "Requirement already satisfied: urllib3<3,>=1.21.1 in /usr/local/lib/python3.10/dist-packages (from requests) (2.0.7)\n",
            "Requirement already satisfied: certifi>=2017.4.17 in /usr/local/lib/python3.10/dist-packages (from requests) (2023.7.22)\n",
            "Requirement already satisfied: soupsieve>1.2 in /usr/local/lib/python3.10/dist-packages (from beautifulsoup4) (2.5)\n"
          ]
        }
      ],
      "source": [
        "pip install requests beautifulsoup4\n"
      ]
    },
    {
      "cell_type": "code",
      "source": [
        "import requests\n",
        "from bs4 import BeautifulSoup\n",
        "\n",
        "url = \"https://www.imdb.com/name/nm0000619/?ref_=nv_sr_srsg_0\"\n",
        "response = requests.get(url)\n"
      ],
      "metadata": {
        "id": "MsgO1MArQ0it"
      },
      "execution_count": 2,
      "outputs": []
    },
    {
      "cell_type": "code",
      "source": [
        "soup = BeautifulSoup(response.content, \"html.parser\")\n"
      ],
      "metadata": {
        "id": "SAtUBYpsQ-rZ"
      },
      "execution_count": 3,
      "outputs": []
    },
    {
      "cell_type": "markdown",
      "source": [
        "To achieve web scraping from the provided IMDb link, creating dataframes, and managing the data in a database using SQLAlchemy, you'll need to use web scraping libraries like BeautifulSoup and requests in Python. However, I cannot execute code or access external websites directly. But I can provide you with an example code template to help you get started. Here's how you can approach this task:\n",
        "\n",
        "**Web Scraping with BeautifulSoup and Requests:**"
      ],
      "metadata": {
        "id": "p-9-4ZIuVVRA"
      }
    },
    {
      "cell_type": "code",
      "source": [
        "import requests\n",
        "from bs4 import BeautifulSoup\n",
        "import pandas as pd\n",
        "\n",
        "# Send a request to the IMDb URL\n",
        "url = \"https://www.imdb.com/name/nm0000619/?ref_=nv_sr_srsg_0\"\n",
        "response = requests.get(url)\n",
        "soup = BeautifulSoup(response.content, \"html.parser\")\n",
        "\n",
        "# Perform web scraping to extract movie data and create dataframes\n",
        "# Example: Extracting titles and years\n",
        "titles = []\n",
        "years = []\n",
        "for movie_div in soup.find_all(\"div\", class_=\"lister-item-content\"):\n",
        "    title = movie_div.find(\"a\").text.strip()\n",
        "    year = movie_div.find(\"span\", class_=\"lister-item-year\").text.strip(\"()\")\n",
        "    titles.append(title)\n",
        "    years.append(int(year))\n",
        "\n",
        "samuel_movies_df = pd.DataFrame({\"title\": titles, \"year\": years})\n"
      ],
      "metadata": {
        "id": "tWPOw9PQRiXo"
      },
      "execution_count": 5,
      "outputs": []
    },
    {
      "cell_type": "markdown",
      "source": [
        "**Creating SQLAlchemy Table:**"
      ],
      "metadata": {
        "id": "reVbl5X9VeGP"
      }
    },
    {
      "cell_type": "code",
      "source": [
        "from sqlalchemy import create_engine, Column, Integer, String\n",
        "from sqlalchemy.ext.declarative import declarative_base\n",
        "\n",
        "Base = declarative_base()\n",
        "\n",
        "# Define the ORM model for the tables\n",
        "class SamuelMovies(Base):\n",
        "    __tablename__ = \"samuel_movies\"\n",
        "    id = Column(Integer, primary_key=True)\n",
        "    title = Column(String)\n",
        "    year = Column(Integer)\n",
        "\n",
        "class TimMovies(Base):\n",
        "    __tablename__ = \"tim_movies\"\n",
        "    id = Column(Integer, primary_key=True)\n",
        "    title = Column(String)\n",
        "    year = Column(Integer)\n",
        "\n",
        "class Common(Base):\n",
        "    __tablename__ = \"common\"\n",
        "    id = Column(Integer, primary_key=True)\n",
        "    title = Column(String)\n",
        "    year = Column(Integer)\n",
        "\n",
        "class OnlySamuel(Base):\n",
        "    __tablename__ = \"only_samuel\"\n",
        "    id = Column(Integer, primary_key=True)\n",
        "    title = Column(String)\n",
        "    year = Column(Integer)\n",
        "\n",
        "class OnlyTim(Base):\n",
        "    __tablename__ = \"only_tim\"\n",
        "    id = Column(Integer, primary_key=True)\n",
        "    title = Column(String)\n",
        "    year = Column(Integer)\n",
        "\n",
        "# Create an SQLite database engine\n",
        "engine = create_engine('sqlite:///movies.db')\n",
        "\n",
        "# Create the tables in the database\n",
        "Base.metadata.create_all(engine)\n"
      ],
      "metadata": {
        "colab": {
          "base_uri": "https://localhost:8080/"
        },
        "id": "aDYKHjN6Rk4h",
        "outputId": "a799d087-3e96-4aea-9cd5-efa40abbbaf2"
      },
      "execution_count": 6,
      "outputs": [
        {
          "output_type": "stream",
          "name": "stderr",
          "text": [
            "<ipython-input-6-22937ddde9ed>:4: MovedIn20Warning: The ``declarative_base()`` function is now available as sqlalchemy.orm.declarative_base(). (deprecated since: 2.0) (Background on SQLAlchemy 2.0 at: https://sqlalche.me/e/b8d9)\n",
            "  Base = declarative_base()\n"
          ]
        }
      ]
    }
  ]
}