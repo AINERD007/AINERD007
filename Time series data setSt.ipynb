{
  "cells": [
    {
      "cell_type": "markdown",
      "metadata": {
        "id": "view-in-github",
        "colab_type": "text"
      },
      "source": [
        "<a href=\"https://colab.research.google.com/github/AINERD007/AINERD007/blob/main/Time%20series%20data%20setSt.ipynb\" target=\"_parent\"><img src=\"https://colab.research.google.com/assets/colab-badge.svg\" alt=\"Open In Colab\"/></a>"
      ]
    },
    {
      "cell_type": "markdown",
      "metadata": {
        "id": "UNPEQrh2tKbp"
      },
      "source": [
        "# 1. Different Types of Data"
      ]
    },
    {
      "cell_type": "code",
      "execution_count": null,
      "metadata": {
        "id": "gJqpdn2ytKbu"
      },
      "outputs": [],
      "source": [
        "import os\n",
        "import pandas as pd\n",
        "import numpy as np\n",
        "%matplotlib inline\n",
        "from matplotlib import pyplot as plt\n",
        "import seaborn as sns"
      ]
    },
    {
      "cell_type": "markdown",
      "metadata": {
        "id": "vGtrv3UxtKbw"
      },
      "source": [
        "1.1 Import the data"
      ]
    },
    {
      "cell_type": "code",
      "execution_count": null,
      "metadata": {
        "id": "gc2hTva7tKbw"
      },
      "outputs": [],
      "source": []
    },
    {
      "cell_type": "markdown",
      "metadata": {
        "id": "Gtmy9oU3tKbx"
      },
      "source": [
        "1.2 Check the number of rows and columns.\n",
        "Check how many unique indicator names and country codes are available in the data."
      ]
    },
    {
      "cell_type": "code",
      "execution_count": null,
      "metadata": {
        "id": "qV9ezvgdtKbx"
      },
      "outputs": [],
      "source": []
    },
    {
      "cell_type": "markdown",
      "metadata": {
        "id": "9n4EzjHFtKby"
      },
      "source": [
        "1.3 Create a new dataframe where indicator name is 'Central government debt, total (% of GDP)'\n",
        "\n",
        "Create a new dataframe where indicator name is 'Military expenditure (% of GDP)'"
      ]
    },
    {
      "cell_type": "code",
      "execution_count": null,
      "metadata": {
        "id": "P8-nfUC8tKby"
      },
      "outputs": [],
      "source": []
    },
    {
      "cell_type": "markdown",
      "metadata": {
        "id": "4gYRbmmYtKbz"
      },
      "source": [
        "1.4 Assign the country code as the index for the two dataframes you created earlier.\n",
        "\n",
        "Keep the countries where both columns have non-missing values.\n",
        "\n",
        "Create a histogram for the military expenditure column.\n",
        "\n"
      ]
    },
    {
      "cell_type": "code",
      "execution_count": null,
      "metadata": {
        "id": "g0KbpBhXtKbz"
      },
      "outputs": [],
      "source": []
    },
    {
      "cell_type": "markdown",
      "metadata": {
        "id": "e2z2TzyWtKb0"
      },
      "source": [
        "### 1.1.2 Time Series Data"
      ]
    },
    {
      "cell_type": "markdown",
      "metadata": {
        "id": "TyMN0izvtKb0"
      },
      "source": [
        "1.5\n",
        "a. filter the two datasets above for country ode 'USA'\n",
        "\n",
        "b. concatenate  the two series (data for the US) after taking a transpose of them.\n",
        "\n",
        "c. keep the data corresponding to years between 1960 and 2010 (including).\n",
        "\n",
        "d. drop the rows with missing values\n",
        "\n",
        "e. Create plots for the military and government expenditure as a function of time"
      ]
    },
    {
      "cell_type": "code",
      "execution_count": null,
      "metadata": {
        "id": "0DINT8h-tKb1"
      },
      "outputs": [],
      "source": []
    },
    {
      "cell_type": "markdown",
      "metadata": {
        "tags": [],
        "id": "of3AFwLYtKb1"
      },
      "source": [
        "### 1.1.3 Panel Data\n",
        "\n",
        "- Cross sectional\n",
        " - Multiple individuals at one point in time\n",
        "- Time Series\n",
        " - Individual entity over multiple points in time\n",
        "- Panel Data (longitudinal data)\n",
        " - Multiple entities over multiple points in time"
      ]
    },
    {
      "cell_type": "markdown",
      "metadata": {
        "id": "8dlYKR69tKb1"
      },
      "source": [
        "1.6 create the military expenditure for the following countries between\n",
        "1960 and 2010.\n",
        "\n",
        "The country codes:\n",
        "\n",
        "China: 'CHN'\n",
        "\n",
        "USA:'USA'\n",
        "\n",
        "India:'IND'\n",
        "\n",
        "UK:'GBR'"
      ]
    },
    {
      "cell_type": "code",
      "execution_count": null,
      "metadata": {
        "id": "RyJTX8HttKb2"
      },
      "outputs": [],
      "source": []
    },
    {
      "cell_type": "markdown",
      "metadata": {
        "id": "RfFflIb1tKb2"
      },
      "source": [
        "# 2. Internal Structure of Time Series"
      ]
    },
    {
      "cell_type": "markdown",
      "metadata": {
        "tags": [],
        "id": "ug2jZHaCtKb3"
      },
      "source": [
        "### Objectives of Time Series Analysis\n",
        "- Decompose a time series\n",
        "- Develop mathematical models\n",
        "- Uses of models\n",
        " - Understand observed behaviour\n",
        " - Predict series for future points in time"
      ]
    },
    {
      "cell_type": "markdown",
      "metadata": {
        "id": "bImhO-3ctKb3"
      },
      "source": [
        "2.1 Read the data 'Monthly_CO2_Concentratioins.xlsx'\n",
        "\n",
        "Keep the rows wihout any missing values\n",
        "\n",
        "Plot the Co2 concentration, observe the upward trend\n",
        "\n",
        "Plot the data for only years 1980 and 1981\n",
        "\n",
        "\n",
        "\n"
      ]
    },
    {
      "cell_type": "code",
      "execution_count": null,
      "metadata": {
        "id": "F_l32lzZtKb3"
      },
      "outputs": [],
      "source": []
    },
    {
      "cell_type": "markdown",
      "metadata": {
        "id": "NWmgJm-mtKb3"
      },
      "source": [
        "## 2.1 Upward Trend"
      ]
    },
    {
      "cell_type": "code",
      "execution_count": null,
      "metadata": {
        "id": "otm303pBtKb3"
      },
      "outputs": [],
      "source": []
    },
    {
      "cell_type": "markdown",
      "metadata": {
        "id": "-WMtHzSatKb4"
      },
      "source": [
        "### Zoomed-in Version of the Data Between 1980-81"
      ]
    },
    {
      "cell_type": "code",
      "execution_count": null,
      "metadata": {
        "id": "Gqpa2KlctKb4"
      },
      "outputs": [],
      "source": []
    },
    {
      "cell_type": "markdown",
      "metadata": {
        "tags": [],
        "id": "bThBnzi2tKb4"
      },
      "source": [
        "### Fitting The Trend Line\n",
        "\n",
        "Fit a linear regression model using the data and\n",
        "print the coefficient and the intercept\n",
        "\n"
      ]
    },
    {
      "cell_type": "code",
      "execution_count": null,
      "metadata": {
        "id": "vahIteuitKb4"
      },
      "outputs": [],
      "source": []
    },
    {
      "cell_type": "markdown",
      "metadata": {
        "id": "zUteVxjFtKb5"
      },
      "source": [
        "### Calculating the Residuals\n",
        "\n",
        "Calculate the residuals by subtracting the predictions from the data\n",
        "\n",
        "Plot the residuals\n"
      ]
    },
    {
      "cell_type": "code",
      "execution_count": null,
      "metadata": {
        "id": "8_wuDz5etKb5"
      },
      "outputs": [],
      "source": []
    },
    {
      "cell_type": "markdown",
      "metadata": {
        "id": "r7yJngtTtKb5"
      },
      "source": [
        "### Seasonality\n",
        "\n",
        "Seasonality is manifested as periodic deviations such as those seen in the de-trended observations of CO2 emissions.\n",
        "\n",
        "A practical technique of determining seasonality is through exploratory data analysis through the following plots:\n",
        "\n",
        "- Run sequence plot\n",
        "- Seasonal sub series plot\n",
        "- Multiple box plots\n"
      ]
    },
    {
      "cell_type": "code",
      "execution_count": null,
      "metadata": {
        "id": "u7OXcCkatKb5"
      },
      "outputs": [],
      "source": []
    },
    {
      "cell_type": "markdown",
      "metadata": {
        "id": "r2tl-wnRtKb5"
      },
      "source": [
        "### Cylical Changes\n",
        "Cyclical changes are movements observed after every few units of time, but they occur less frequently than seasonal fluctuations. Unlike seasonality, cyclical changes might not have a fixed period of variations."
      ]
    },
    {
      "cell_type": "code",
      "execution_count": null,
      "metadata": {
        "id": "oXPtpBwUtKb5"
      },
      "outputs": [],
      "source": []
    },
    {
      "cell_type": "markdown",
      "metadata": {
        "tags": [],
        "id": "XFuLmjYwtKb5"
      },
      "source": [
        "### Zero-mean Model or White Noise\n",
        "Once predictions have been made by a time series forecast model, they can be collected and analyzed. The series of forecast errors should ideally be white noise. When forecast errors are white noise, it means that all of the signal information in the time series has been harnessed by the model in order to make predictions."
      ]
    },
    {
      "cell_type": "code",
      "execution_count": null,
      "metadata": {
        "id": "UWNVDAH7tKb6"
      },
      "outputs": [],
      "source": []
    },
    {
      "cell_type": "markdown",
      "metadata": {
        "id": "u2lcPQHitKb6"
      },
      "source": [
        "### Random Walk\n",
        "A random walk is different from a list of random numbers because the next value in the sequence is a modification of the previous value in the sequence.\n",
        "\n",
        "$$y(t)=B_0+B_1\\times y(t-1) + e(t)$$\n",
        "\n",
        "$e(t)$ is a random noise or increment at time t. It represents the random fluctuation or innovation added to the last observed value to obtain the next value in the time series.\n",
        "\n",
        "Given the way that the random walk is constructed, we would expect a strong autocorrelation with the previous observation and a linear fall off from there with previous lag values."
      ]
    },
    {
      "cell_type": "code",
      "execution_count": null,
      "metadata": {
        "id": "CV1_0S6AtKb6"
      },
      "outputs": [],
      "source": []
    }
  ],
  "metadata": {
    "kernelspec": {
      "display_name": "Python 3 (ipykernel)",
      "language": "python",
      "name": "python3"
    },
    "language_info": {
      "codemirror_mode": {
        "name": "ipython",
        "version": 3
      },
      "file_extension": ".py",
      "mimetype": "text/x-python",
      "name": "python",
      "nbconvert_exporter": "python",
      "pygments_lexer": "ipython3",
      "version": "3.10.9"
    },
    "colab": {
      "provenance": [],
      "include_colab_link": true
    }
  },
  "nbformat": 4,
  "nbformat_minor": 0
}