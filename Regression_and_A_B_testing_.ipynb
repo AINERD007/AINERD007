{
  "nbformat": 4,
  "nbformat_minor": 0,
  "metadata": {
    "colab": {
      "provenance": [],
      "authorship_tag": "ABX9TyOw2nZEWRuUdJDl3J/O5W/Q",
      "include_colab_link": true
    },
    "kernelspec": {
      "name": "python3",
      "display_name": "Python 3"
    },
    "language_info": {
      "name": "python"
    }
  },
  "cells": [
    {
      "cell_type": "markdown",
      "metadata": {
        "id": "view-in-github",
        "colab_type": "text"
      },
      "source": [
        "<a href=\"https://colab.research.google.com/github/AINERD007/AINERD007/blob/main/Regression_and_A_B_testing_.ipynb\" target=\"_parent\"><img src=\"https://colab.research.google.com/assets/colab-badge.svg\" alt=\"Open In Colab\"/></a>"
      ]
    },
    {
      "cell_type": "code",
      "execution_count": null,
      "metadata": {
        "id": "a_eX9Ez3mSDA"
      },
      "outputs": [],
      "source": [
        "import pandas as pd\n",
        "import numpy as np\n",
        "import matplotlib.pyplot as plt\n",
        "from sklearn.linear_model import LinearRegression\n",
        "from sklearn.metrics import mean_squared_error\n",
        "from sklearn.preprocessing import StandardScaler\n",
        "\n",
        "%matplotlib inline"
      ]
    },
    {
      "cell_type": "code",
      "source": [
        "from google.colab import files\n",
        "uploaded = files.upload()\n"
      ],
      "metadata": {
        "colab": {
          "base_uri": "https://localhost:8080/",
          "height": 73
        },
        "id": "suVCJ7sHmbDf",
        "outputId": "b47d0071-4da8-4eb6-9247-aacdeb1da098"
      },
      "execution_count": null,
      "outputs": [
        {
          "output_type": "display_data",
          "data": {
            "text/plain": [
              "<IPython.core.display.HTML object>"
            ],
            "text/html": [
              "\n",
              "     <input type=\"file\" id=\"files-b06b5a4e-2ec9-42c4-b7ed-26340bf8e147\" name=\"files[]\" multiple disabled\n",
              "        style=\"border:none\" />\n",
              "     <output id=\"result-b06b5a4e-2ec9-42c4-b7ed-26340bf8e147\">\n",
              "      Upload widget is only available when the cell has been executed in the\n",
              "      current browser session. Please rerun this cell to enable.\n",
              "      </output>\n",
              "      <script>// Copyright 2017 Google LLC\n",
              "//\n",
              "// Licensed under the Apache License, Version 2.0 (the \"License\");\n",
              "// you may not use this file except in compliance with the License.\n",
              "// You may obtain a copy of the License at\n",
              "//\n",
              "//      http://www.apache.org/licenses/LICENSE-2.0\n",
              "//\n",
              "// Unless required by applicable law or agreed to in writing, software\n",
              "// distributed under the License is distributed on an \"AS IS\" BASIS,\n",
              "// WITHOUT WARRANTIES OR CONDITIONS OF ANY KIND, either express or implied.\n",
              "// See the License for the specific language governing permissions and\n",
              "// limitations under the License.\n",
              "\n",
              "/**\n",
              " * @fileoverview Helpers for google.colab Python module.\n",
              " */\n",
              "(function(scope) {\n",
              "function span(text, styleAttributes = {}) {\n",
              "  const element = document.createElement('span');\n",
              "  element.textContent = text;\n",
              "  for (const key of Object.keys(styleAttributes)) {\n",
              "    element.style[key] = styleAttributes[key];\n",
              "  }\n",
              "  return element;\n",
              "}\n",
              "\n",
              "// Max number of bytes which will be uploaded at a time.\n",
              "const MAX_PAYLOAD_SIZE = 100 * 1024;\n",
              "\n",
              "function _uploadFiles(inputId, outputId) {\n",
              "  const steps = uploadFilesStep(inputId, outputId);\n",
              "  const outputElement = document.getElementById(outputId);\n",
              "  // Cache steps on the outputElement to make it available for the next call\n",
              "  // to uploadFilesContinue from Python.\n",
              "  outputElement.steps = steps;\n",
              "\n",
              "  return _uploadFilesContinue(outputId);\n",
              "}\n",
              "\n",
              "// This is roughly an async generator (not supported in the browser yet),\n",
              "// where there are multiple asynchronous steps and the Python side is going\n",
              "// to poll for completion of each step.\n",
              "// This uses a Promise to block the python side on completion of each step,\n",
              "// then passes the result of the previous step as the input to the next step.\n",
              "function _uploadFilesContinue(outputId) {\n",
              "  const outputElement = document.getElementById(outputId);\n",
              "  const steps = outputElement.steps;\n",
              "\n",
              "  const next = steps.next(outputElement.lastPromiseValue);\n",
              "  return Promise.resolve(next.value.promise).then((value) => {\n",
              "    // Cache the last promise value to make it available to the next\n",
              "    // step of the generator.\n",
              "    outputElement.lastPromiseValue = value;\n",
              "    return next.value.response;\n",
              "  });\n",
              "}\n",
              "\n",
              "/**\n",
              " * Generator function which is called between each async step of the upload\n",
              " * process.\n",
              " * @param {string} inputId Element ID of the input file picker element.\n",
              " * @param {string} outputId Element ID of the output display.\n",
              " * @return {!Iterable<!Object>} Iterable of next steps.\n",
              " */\n",
              "function* uploadFilesStep(inputId, outputId) {\n",
              "  const inputElement = document.getElementById(inputId);\n",
              "  inputElement.disabled = false;\n",
              "\n",
              "  const outputElement = document.getElementById(outputId);\n",
              "  outputElement.innerHTML = '';\n",
              "\n",
              "  const pickedPromise = new Promise((resolve) => {\n",
              "    inputElement.addEventListener('change', (e) => {\n",
              "      resolve(e.target.files);\n",
              "    });\n",
              "  });\n",
              "\n",
              "  const cancel = document.createElement('button');\n",
              "  inputElement.parentElement.appendChild(cancel);\n",
              "  cancel.textContent = 'Cancel upload';\n",
              "  const cancelPromise = new Promise((resolve) => {\n",
              "    cancel.onclick = () => {\n",
              "      resolve(null);\n",
              "    };\n",
              "  });\n",
              "\n",
              "  // Wait for the user to pick the files.\n",
              "  const files = yield {\n",
              "    promise: Promise.race([pickedPromise, cancelPromise]),\n",
              "    response: {\n",
              "      action: 'starting',\n",
              "    }\n",
              "  };\n",
              "\n",
              "  cancel.remove();\n",
              "\n",
              "  // Disable the input element since further picks are not allowed.\n",
              "  inputElement.disabled = true;\n",
              "\n",
              "  if (!files) {\n",
              "    return {\n",
              "      response: {\n",
              "        action: 'complete',\n",
              "      }\n",
              "    };\n",
              "  }\n",
              "\n",
              "  for (const file of files) {\n",
              "    const li = document.createElement('li');\n",
              "    li.append(span(file.name, {fontWeight: 'bold'}));\n",
              "    li.append(span(\n",
              "        `(${file.type || 'n/a'}) - ${file.size} bytes, ` +\n",
              "        `last modified: ${\n",
              "            file.lastModifiedDate ? file.lastModifiedDate.toLocaleDateString() :\n",
              "                                    'n/a'} - `));\n",
              "    const percent = span('0% done');\n",
              "    li.appendChild(percent);\n",
              "\n",
              "    outputElement.appendChild(li);\n",
              "\n",
              "    const fileDataPromise = new Promise((resolve) => {\n",
              "      const reader = new FileReader();\n",
              "      reader.onload = (e) => {\n",
              "        resolve(e.target.result);\n",
              "      };\n",
              "      reader.readAsArrayBuffer(file);\n",
              "    });\n",
              "    // Wait for the data to be ready.\n",
              "    let fileData = yield {\n",
              "      promise: fileDataPromise,\n",
              "      response: {\n",
              "        action: 'continue',\n",
              "      }\n",
              "    };\n",
              "\n",
              "    // Use a chunked sending to avoid message size limits. See b/62115660.\n",
              "    let position = 0;\n",
              "    do {\n",
              "      const length = Math.min(fileData.byteLength - position, MAX_PAYLOAD_SIZE);\n",
              "      const chunk = new Uint8Array(fileData, position, length);\n",
              "      position += length;\n",
              "\n",
              "      const base64 = btoa(String.fromCharCode.apply(null, chunk));\n",
              "      yield {\n",
              "        response: {\n",
              "          action: 'append',\n",
              "          file: file.name,\n",
              "          data: base64,\n",
              "        },\n",
              "      };\n",
              "\n",
              "      let percentDone = fileData.byteLength === 0 ?\n",
              "          100 :\n",
              "          Math.round((position / fileData.byteLength) * 100);\n",
              "      percent.textContent = `${percentDone}% done`;\n",
              "\n",
              "    } while (position < fileData.byteLength);\n",
              "  }\n",
              "\n",
              "  // All done.\n",
              "  yield {\n",
              "    response: {\n",
              "      action: 'complete',\n",
              "    }\n",
              "  };\n",
              "}\n",
              "\n",
              "scope.google = scope.google || {};\n",
              "scope.google.colab = scope.google.colab || {};\n",
              "scope.google.colab._files = {\n",
              "  _uploadFiles,\n",
              "  _uploadFilesContinue,\n",
              "};\n",
              "})(self);\n",
              "</script> "
            ]
          },
          "metadata": {}
        },
        {
          "output_type": "stream",
          "name": "stdout",
          "text": [
            "Saving heart_cleveland_recoded.csv to heart_cleveland_recoded.csv\n"
          ]
        }
      ]
    },
    {
      "cell_type": "code",
      "source": [
        "# sex\n",
        "sex_t = pd.CategoricalDtype(categories=['M','F'], ordered=False)\n",
        "\n",
        "# Chest pain\n",
        "pain_t = pd.CategoricalDtype(categories=['Typical','Atypical','Non_anginal','Asymptomatic'], ordered=False)\n",
        "\n",
        "# RestECG\n",
        "ECG_t = pd.CategoricalDtype(categories=['Normal','ST-T wave','Hypertrophy'], ordered=False)\n",
        "\n",
        "# ECG_ST_slope\n",
        "ECG_ST_t = pd.CategoricalDtype(categories=['Upsloping', 'Flat', 'Downsloping'], ordered=False)\n",
        "\n",
        "# Thallium uptake\n",
        "Thal_t = pd.CategoricalDtype(categories=['Normal','Fixed','Reversible'], ordered=False)\n",
        "\n",
        "# Type dictionary\n",
        "types_dict = {'Sex':sex_t, 'ChestPain':pain_t, 'RestECG': ECG_t, 'ECG_ST_slope': ECG_ST_t, 'Thallium':Thal_t}\n",
        "\n",
        "hearts = pd.read_csv('heart_cleveland_recoded.csv', dtype = types_dict)\n",
        "hearts"
      ],
      "metadata": {
        "colab": {
          "base_uri": "https://localhost:8080/",
          "height": 423
        },
        "id": "_2EzjMwBnHb_",
        "outputId": "a10d3126-3998-423b-e816-c0f59fcde95b"
      },
      "execution_count": null,
      "outputs": [
        {
          "output_type": "execute_result",
          "data": {
            "text/plain": [
              "     Age Sex     ChestPain  RestBP  Chol  Bsugar      RestECG  MaxRate  \\\n",
              "0     69   M       Typical     160   234    True  Hypertrophy      131   \n",
              "1     69   F       Typical     140   239   False       Normal      151   \n",
              "2     66   F       Typical     150   226   False       Normal      114   \n",
              "3     65   M       Typical     138   282    True  Hypertrophy      174   \n",
              "4     64   M       Typical     110   211   False  Hypertrophy      144   \n",
              "..   ...  ..           ...     ...   ...     ...          ...      ...   \n",
              "292   40   M  Asymptomatic     152   223   False       Normal      181   \n",
              "293   39   M  Asymptomatic     118   219   False       Normal      140   \n",
              "294   35   M  Asymptomatic     120   198   False       Normal      130   \n",
              "295   35   F  Asymptomatic     138   183   False       Normal      182   \n",
              "296   35   M  Asymptomatic     126   282   False  Hypertrophy      156   \n",
              "\n",
              "     Angina  ECG_ST_d ECG_ST_slope  Vessels    Thallium  Disease  \n",
              "0     False       0.1         Flat        1      Normal    False  \n",
              "1     False       1.8    Upsloping        2      Normal    False  \n",
              "2     False       2.6  Downsloping        0      Normal    False  \n",
              "3     False       1.4         Flat        1      Normal     True  \n",
              "4      True       1.8         Flat        0      Normal    False  \n",
              "..      ...       ...          ...      ...         ...      ...  \n",
              "292   False       0.0    Upsloping        0  Reversible     True  \n",
              "293   False       1.2         Flat        0  Reversible     True  \n",
              "294    True       1.6         Flat        0  Reversible     True  \n",
              "295   False       1.4    Upsloping        0      Normal    False  \n",
              "296    True       0.0    Upsloping        0  Reversible     True  \n",
              "\n",
              "[297 rows x 14 columns]"
            ],
            "text/html": [
              "\n",
              "  <div id=\"df-75da4a2c-8151-48e0-a35f-dd037dbf7460\" class=\"colab-df-container\">\n",
              "    <div>\n",
              "<style scoped>\n",
              "    .dataframe tbody tr th:only-of-type {\n",
              "        vertical-align: middle;\n",
              "    }\n",
              "\n",
              "    .dataframe tbody tr th {\n",
              "        vertical-align: top;\n",
              "    }\n",
              "\n",
              "    .dataframe thead th {\n",
              "        text-align: right;\n",
              "    }\n",
              "</style>\n",
              "<table border=\"1\" class=\"dataframe\">\n",
              "  <thead>\n",
              "    <tr style=\"text-align: right;\">\n",
              "      <th></th>\n",
              "      <th>Age</th>\n",
              "      <th>Sex</th>\n",
              "      <th>ChestPain</th>\n",
              "      <th>RestBP</th>\n",
              "      <th>Chol</th>\n",
              "      <th>Bsugar</th>\n",
              "      <th>RestECG</th>\n",
              "      <th>MaxRate</th>\n",
              "      <th>Angina</th>\n",
              "      <th>ECG_ST_d</th>\n",
              "      <th>ECG_ST_slope</th>\n",
              "      <th>Vessels</th>\n",
              "      <th>Thallium</th>\n",
              "      <th>Disease</th>\n",
              "    </tr>\n",
              "  </thead>\n",
              "  <tbody>\n",
              "    <tr>\n",
              "      <th>0</th>\n",
              "      <td>69</td>\n",
              "      <td>M</td>\n",
              "      <td>Typical</td>\n",
              "      <td>160</td>\n",
              "      <td>234</td>\n",
              "      <td>True</td>\n",
              "      <td>Hypertrophy</td>\n",
              "      <td>131</td>\n",
              "      <td>False</td>\n",
              "      <td>0.1</td>\n",
              "      <td>Flat</td>\n",
              "      <td>1</td>\n",
              "      <td>Normal</td>\n",
              "      <td>False</td>\n",
              "    </tr>\n",
              "    <tr>\n",
              "      <th>1</th>\n",
              "      <td>69</td>\n",
              "      <td>F</td>\n",
              "      <td>Typical</td>\n",
              "      <td>140</td>\n",
              "      <td>239</td>\n",
              "      <td>False</td>\n",
              "      <td>Normal</td>\n",
              "      <td>151</td>\n",
              "      <td>False</td>\n",
              "      <td>1.8</td>\n",
              "      <td>Upsloping</td>\n",
              "      <td>2</td>\n",
              "      <td>Normal</td>\n",
              "      <td>False</td>\n",
              "    </tr>\n",
              "    <tr>\n",
              "      <th>2</th>\n",
              "      <td>66</td>\n",
              "      <td>F</td>\n",
              "      <td>Typical</td>\n",
              "      <td>150</td>\n",
              "      <td>226</td>\n",
              "      <td>False</td>\n",
              "      <td>Normal</td>\n",
              "      <td>114</td>\n",
              "      <td>False</td>\n",
              "      <td>2.6</td>\n",
              "      <td>Downsloping</td>\n",
              "      <td>0</td>\n",
              "      <td>Normal</td>\n",
              "      <td>False</td>\n",
              "    </tr>\n",
              "    <tr>\n",
              "      <th>3</th>\n",
              "      <td>65</td>\n",
              "      <td>M</td>\n",
              "      <td>Typical</td>\n",
              "      <td>138</td>\n",
              "      <td>282</td>\n",
              "      <td>True</td>\n",
              "      <td>Hypertrophy</td>\n",
              "      <td>174</td>\n",
              "      <td>False</td>\n",
              "      <td>1.4</td>\n",
              "      <td>Flat</td>\n",
              "      <td>1</td>\n",
              "      <td>Normal</td>\n",
              "      <td>True</td>\n",
              "    </tr>\n",
              "    <tr>\n",
              "      <th>4</th>\n",
              "      <td>64</td>\n",
              "      <td>M</td>\n",
              "      <td>Typical</td>\n",
              "      <td>110</td>\n",
              "      <td>211</td>\n",
              "      <td>False</td>\n",
              "      <td>Hypertrophy</td>\n",
              "      <td>144</td>\n",
              "      <td>True</td>\n",
              "      <td>1.8</td>\n",
              "      <td>Flat</td>\n",
              "      <td>0</td>\n",
              "      <td>Normal</td>\n",
              "      <td>False</td>\n",
              "    </tr>\n",
              "    <tr>\n",
              "      <th>...</th>\n",
              "      <td>...</td>\n",
              "      <td>...</td>\n",
              "      <td>...</td>\n",
              "      <td>...</td>\n",
              "      <td>...</td>\n",
              "      <td>...</td>\n",
              "      <td>...</td>\n",
              "      <td>...</td>\n",
              "      <td>...</td>\n",
              "      <td>...</td>\n",
              "      <td>...</td>\n",
              "      <td>...</td>\n",
              "      <td>...</td>\n",
              "      <td>...</td>\n",
              "    </tr>\n",
              "    <tr>\n",
              "      <th>292</th>\n",
              "      <td>40</td>\n",
              "      <td>M</td>\n",
              "      <td>Asymptomatic</td>\n",
              "      <td>152</td>\n",
              "      <td>223</td>\n",
              "      <td>False</td>\n",
              "      <td>Normal</td>\n",
              "      <td>181</td>\n",
              "      <td>False</td>\n",
              "      <td>0.0</td>\n",
              "      <td>Upsloping</td>\n",
              "      <td>0</td>\n",
              "      <td>Reversible</td>\n",
              "      <td>True</td>\n",
              "    </tr>\n",
              "    <tr>\n",
              "      <th>293</th>\n",
              "      <td>39</td>\n",
              "      <td>M</td>\n",
              "      <td>Asymptomatic</td>\n",
              "      <td>118</td>\n",
              "      <td>219</td>\n",
              "      <td>False</td>\n",
              "      <td>Normal</td>\n",
              "      <td>140</td>\n",
              "      <td>False</td>\n",
              "      <td>1.2</td>\n",
              "      <td>Flat</td>\n",
              "      <td>0</td>\n",
              "      <td>Reversible</td>\n",
              "      <td>True</td>\n",
              "    </tr>\n",
              "    <tr>\n",
              "      <th>294</th>\n",
              "      <td>35</td>\n",
              "      <td>M</td>\n",
              "      <td>Asymptomatic</td>\n",
              "      <td>120</td>\n",
              "      <td>198</td>\n",
              "      <td>False</td>\n",
              "      <td>Normal</td>\n",
              "      <td>130</td>\n",
              "      <td>True</td>\n",
              "      <td>1.6</td>\n",
              "      <td>Flat</td>\n",
              "      <td>0</td>\n",
              "      <td>Reversible</td>\n",
              "      <td>True</td>\n",
              "    </tr>\n",
              "    <tr>\n",
              "      <th>295</th>\n",
              "      <td>35</td>\n",
              "      <td>F</td>\n",
              "      <td>Asymptomatic</td>\n",
              "      <td>138</td>\n",
              "      <td>183</td>\n",
              "      <td>False</td>\n",
              "      <td>Normal</td>\n",
              "      <td>182</td>\n",
              "      <td>False</td>\n",
              "      <td>1.4</td>\n",
              "      <td>Upsloping</td>\n",
              "      <td>0</td>\n",
              "      <td>Normal</td>\n",
              "      <td>False</td>\n",
              "    </tr>\n",
              "    <tr>\n",
              "      <th>296</th>\n",
              "      <td>35</td>\n",
              "      <td>M</td>\n",
              "      <td>Asymptomatic</td>\n",
              "      <td>126</td>\n",
              "      <td>282</td>\n",
              "      <td>False</td>\n",
              "      <td>Hypertrophy</td>\n",
              "      <td>156</td>\n",
              "      <td>True</td>\n",
              "      <td>0.0</td>\n",
              "      <td>Upsloping</td>\n",
              "      <td>0</td>\n",
              "      <td>Reversible</td>\n",
              "      <td>True</td>\n",
              "    </tr>\n",
              "  </tbody>\n",
              "</table>\n",
              "<p>297 rows × 14 columns</p>\n",
              "</div>\n",
              "    <div class=\"colab-df-buttons\">\n",
              "\n",
              "  <div class=\"colab-df-container\">\n",
              "    <button class=\"colab-df-convert\" onclick=\"convertToInteractive('df-75da4a2c-8151-48e0-a35f-dd037dbf7460')\"\n",
              "            title=\"Convert this dataframe to an interactive table.\"\n",
              "            style=\"display:none;\">\n",
              "\n",
              "  <svg xmlns=\"http://www.w3.org/2000/svg\" height=\"24px\" viewBox=\"0 -960 960 960\">\n",
              "    <path d=\"M120-120v-720h720v720H120Zm60-500h600v-160H180v160Zm220 220h160v-160H400v160Zm0 220h160v-160H400v160ZM180-400h160v-160H180v160Zm440 0h160v-160H620v160ZM180-180h160v-160H180v160Zm440 0h160v-160H620v160Z\"/>\n",
              "  </svg>\n",
              "    </button>\n",
              "\n",
              "  <style>\n",
              "    .colab-df-container {\n",
              "      display:flex;\n",
              "      gap: 12px;\n",
              "    }\n",
              "\n",
              "    .colab-df-convert {\n",
              "      background-color: #E8F0FE;\n",
              "      border: none;\n",
              "      border-radius: 50%;\n",
              "      cursor: pointer;\n",
              "      display: none;\n",
              "      fill: #1967D2;\n",
              "      height: 32px;\n",
              "      padding: 0 0 0 0;\n",
              "      width: 32px;\n",
              "    }\n",
              "\n",
              "    .colab-df-convert:hover {\n",
              "      background-color: #E2EBFA;\n",
              "      box-shadow: 0px 1px 2px rgba(60, 64, 67, 0.3), 0px 1px 3px 1px rgba(60, 64, 67, 0.15);\n",
              "      fill: #174EA6;\n",
              "    }\n",
              "\n",
              "    .colab-df-buttons div {\n",
              "      margin-bottom: 4px;\n",
              "    }\n",
              "\n",
              "    [theme=dark] .colab-df-convert {\n",
              "      background-color: #3B4455;\n",
              "      fill: #D2E3FC;\n",
              "    }\n",
              "\n",
              "    [theme=dark] .colab-df-convert:hover {\n",
              "      background-color: #434B5C;\n",
              "      box-shadow: 0px 1px 3px 1px rgba(0, 0, 0, 0.15);\n",
              "      filter: drop-shadow(0px 1px 2px rgba(0, 0, 0, 0.3));\n",
              "      fill: #FFFFFF;\n",
              "    }\n",
              "  </style>\n",
              "\n",
              "    <script>\n",
              "      const buttonEl =\n",
              "        document.querySelector('#df-75da4a2c-8151-48e0-a35f-dd037dbf7460 button.colab-df-convert');\n",
              "      buttonEl.style.display =\n",
              "        google.colab.kernel.accessAllowed ? 'block' : 'none';\n",
              "\n",
              "      async function convertToInteractive(key) {\n",
              "        const element = document.querySelector('#df-75da4a2c-8151-48e0-a35f-dd037dbf7460');\n",
              "        const dataTable =\n",
              "          await google.colab.kernel.invokeFunction('convertToInteractive',\n",
              "                                                    [key], {});\n",
              "        if (!dataTable) return;\n",
              "\n",
              "        const docLinkHtml = 'Like what you see? Visit the ' +\n",
              "          '<a target=\"_blank\" href=https://colab.research.google.com/notebooks/data_table.ipynb>data table notebook</a>'\n",
              "          + ' to learn more about interactive tables.';\n",
              "        element.innerHTML = '';\n",
              "        dataTable['output_type'] = 'display_data';\n",
              "        await google.colab.output.renderOutput(dataTable, element);\n",
              "        const docLink = document.createElement('div');\n",
              "        docLink.innerHTML = docLinkHtml;\n",
              "        element.appendChild(docLink);\n",
              "      }\n",
              "    </script>\n",
              "  </div>\n",
              "\n",
              "\n",
              "<div id=\"df-971481b7-9652-44ba-89fa-4cb684ab105f\">\n",
              "  <button class=\"colab-df-quickchart\" onclick=\"quickchart('df-971481b7-9652-44ba-89fa-4cb684ab105f')\"\n",
              "            title=\"Suggest charts.\"\n",
              "            style=\"display:none;\">\n",
              "\n",
              "<svg xmlns=\"http://www.w3.org/2000/svg\" height=\"24px\"viewBox=\"0 0 24 24\"\n",
              "     width=\"24px\">\n",
              "    <g>\n",
              "        <path d=\"M19 3H5c-1.1 0-2 .9-2 2v14c0 1.1.9 2 2 2h14c1.1 0 2-.9 2-2V5c0-1.1-.9-2-2-2zM9 17H7v-7h2v7zm4 0h-2V7h2v10zm4 0h-2v-4h2v4z\"/>\n",
              "    </g>\n",
              "</svg>\n",
              "  </button>\n",
              "\n",
              "<style>\n",
              "  .colab-df-quickchart {\n",
              "    background-color: #E8F0FE;\n",
              "    border: none;\n",
              "    border-radius: 50%;\n",
              "    cursor: pointer;\n",
              "    display: none;\n",
              "    fill: #1967D2;\n",
              "    height: 32px;\n",
              "    padding: 0 0 0 0;\n",
              "    width: 32px;\n",
              "  }\n",
              "\n",
              "  .colab-df-quickchart:hover {\n",
              "    background-color: #E2EBFA;\n",
              "    box-shadow: 0px 1px 2px rgba(60, 64, 67, 0.3), 0px 1px 3px 1px rgba(60, 64, 67, 0.15);\n",
              "    fill: #174EA6;\n",
              "  }\n",
              "\n",
              "  [theme=dark] .colab-df-quickchart {\n",
              "    background-color: #3B4455;\n",
              "    fill: #D2E3FC;\n",
              "  }\n",
              "\n",
              "  [theme=dark] .colab-df-quickchart:hover {\n",
              "    background-color: #434B5C;\n",
              "    box-shadow: 0px 1px 3px 1px rgba(0, 0, 0, 0.15);\n",
              "    filter: drop-shadow(0px 1px 2px rgba(0, 0, 0, 0.3));\n",
              "    fill: #FFFFFF;\n",
              "  }\n",
              "</style>\n",
              "\n",
              "  <script>\n",
              "    async function quickchart(key) {\n",
              "      const charts = await google.colab.kernel.invokeFunction(\n",
              "          'suggestCharts', [key], {});\n",
              "    }\n",
              "    (() => {\n",
              "      let quickchartButtonEl =\n",
              "        document.querySelector('#df-971481b7-9652-44ba-89fa-4cb684ab105f button');\n",
              "      quickchartButtonEl.style.display =\n",
              "        google.colab.kernel.accessAllowed ? 'block' : 'none';\n",
              "    })();\n",
              "  </script>\n",
              "</div>\n",
              "    </div>\n",
              "  </div>\n"
            ]
          },
          "metadata": {},
          "execution_count": 3
        }
      ]
    },
    {
      "cell_type": "code",
      "source": [
        "hearts.hist(column='MaxRate')"
      ],
      "metadata": {
        "colab": {
          "base_uri": "https://localhost:8080/",
          "height": 470
        },
        "id": "NVK92_bEnJvH",
        "outputId": "10bab81d-bbdd-44c7-a56d-c9a8f2be8dcb"
      },
      "execution_count": null,
      "outputs": [
        {
          "output_type": "execute_result",
          "data": {
            "text/plain": [
              "array([[<Axes: title={'center': 'MaxRate'}>]], dtype=object)"
            ]
          },
          "metadata": {},
          "execution_count": 4
        },
        {
          "output_type": "display_data",
          "data": {
            "text/plain": [
              "<Figure size 640x480 with 1 Axes>"
            ],
            "image/png": "[encoded data removed]"
          },
          "metadata": {}
        }
      ]
    },
    {
      "cell_type": "code",
      "source": [
        "hearts.hist(column='Age')"
      ],
      "metadata": {
        "colab": {
          "base_uri": "https://localhost:8080/",
          "height": 470
        },
        "id": "8JvdEu01nctx",
        "outputId": "89d013bc-73da-47c0-b5a8-595fdb706c8f"
      },
      "execution_count": null,
      "outputs": [
        {
          "output_type": "execute_result",
          "data": {
            "text/plain": [
              "array([[<Axes: title={'center': 'Age'}>]], dtype=object)"
            ]
          },
          "metadata": {},
          "execution_count": 5
        },
        {
          "output_type": "display_data",
          "data": {
            "text/plain": [
              "<Figure size 640x480 with 1 Axes>"
            ],
            "image/png": "[encoded data removed]"
          },
          "metadata": {}
        }
      ]
    },
    {
      "cell_type": "code",
      "source": [
        "hearts.hist(column='RestBP')"
      ],
      "metadata": {
        "colab": {
          "base_uri": "https://localhost:8080/",
          "height": 470
        },
        "id": "2oEXhzxongh9",
        "outputId": "6479b0e8-1105-4f46-b5d1-5330abecde01"
      },
      "execution_count": null,
      "outputs": [
        {
          "output_type": "execute_result",
          "data": {
            "text/plain": [
              "array([[<Axes: title={'center': 'RestBP'}>]], dtype=object)"
            ]
          },
          "metadata": {},
          "execution_count": 6
        },
        {
          "output_type": "display_data",
          "data": {
            "text/plain": [
              "<Figure size 640x480 with 1 Axes>"
            ],
            "image/png": "[encoded data removed]"
          },
          "metadata": {}
        }
      ]
    },
    {
      "cell_type": "code",
      "source": [
        "fig, (a1,a2,a3) = plt.subplots(3, 1, figsize=(6,14))\n",
        "#plt.scatter(y = hearts.MaxRate, x= hearts.Age, ax=a1)\n",
        "hearts.plot(kind='scatter',  x='Age', y='MaxRate', ax=a1)\n",
        "hearts.plot(kind='scatter',  x='Age', y='RestBP', ax=a2)\n",
        "hearts.plot(kind='scatter',  x='RestBP', y='MaxRate', ax=a3)\n"
      ],
      "metadata": {
        "colab": {
          "base_uri": "https://localhost:8080/",
          "height": 1000
        },
        "id": "w7TmDnzmnhxm",
        "outputId": "9429c8fc-3519-409d-dc8a-160770c016df"
      },
      "execution_count": null,
      "outputs": [
        {
          "output_type": "execute_result",
          "data": {
            "text/plain": [
              "<Axes: xlabel='RestBP', ylabel='MaxRate'>"
            ]
          },
          "metadata": {},
          "execution_count": 7
        },
        {
          "output_type": "display_data",
          "data": {
            "text/plain": [
              "<Figure size 600x1400 with 3 Axes>"
            ],
            "image/png": "[encoded data removed]"
          },
          "metadata": {}
        }
      ]
    },
    {
      "cell_type": "code",
      "source": [
        "y = hearts.MaxRate # this is the target variable; we assue just one though more are possible\n",
        "X = np.column_stack((hearts.Age,hearts.RestBP))\n",
        "X[0:5]"
      ],
      "metadata": {
        "colab": {
          "base_uri": "https://localhost:8080/"
        },
        "id": "w1JHUj42nkjn",
        "outputId": "ad61511c-5293-4704-ef92-9aad1a93b963"
      },
      "execution_count": null,
      "outputs": [
        {
          "output_type": "execute_result",
          "data": {
            "text/plain": [
              "array([[ 69, 160],\n",
              "       [ 69, 140],\n",
              "       [ 66, 150],\n",
              "       [ 65, 138],\n",
              "       [ 64, 110]])"
            ]
          },
          "metadata": {},
          "execution_count": 8
        }
      ]
    },
    {
      "cell_type": "code",
      "source": [
        "reg = LinearRegression().fit(X, y)\n",
        "print('The R2 coefficient of determination is %4.3f' % reg.score(X, y))\n",
        "print('The intercept is %4.1f' % reg.intercept_)\n",
        "beta_Age, beta_RestBP = reg.coef_\n",
        "print('Estimated regression coefficient for Age is %4.2f' % beta_Age,\n",
        "      'change of max heart rate (beats / min) per year')\n",
        "print('Estimated regression coefficient for RestBP is %4.2f' % beta_RestBP,\n",
        "      'change of max heart rate (beats / min) per mmHg')"
      ],
      "metadata": {
        "colab": {
          "base_uri": "https://localhost:8080/"
        },
        "id": "5FgD218Sn4EH",
        "outputId": "dd2d5b2d-15de-46c9-928d-3d9184b3ca99"
      },
      "execution_count": null,
      "outputs": [
        {
          "output_type": "stream",
          "name": "stdout",
          "text": [
            "The R2 coefficient of determination is 0.160\n",
            "The intercept is 194.9\n",
            "Estimated regression coefficient for Age is -1.05 change of max heart rate (beats / min) per year\n",
            "Estimated regression coefficient for RestBP is 0.09 change of max heart rate (beats / min) per mmHg\n"
          ]
        }
      ]
    },
    {
      "cell_type": "code",
      "source": [
        "'Estimated regression coefficient for Age is %4.2f' % beta_Age + \\\n",
        "      ' change of max heart rate (beats / min) per year'"
      ],
      "metadata": {
        "colab": {
          "base_uri": "https://localhost:8080/",
          "height": 36
        },
        "id": "-l3-ItQ-oPM_",
        "outputId": "13e1511a-ef13-4971-c1b1-bd0a3d38be13"
      },
      "execution_count": null,
      "outputs": [
        {
          "output_type": "execute_result",
          "data": {
            "text/plain": [
              "'Estimated regression coefficient for Age is -1.05 change of max heart rate (beats / min) per year'"
            ],
            "application/vnd.google.colaboratory.intrinsic+json": {
              "type": "string"
            }
          },
          "metadata": {},
          "execution_count": 10
        }
      ]
    },
    {
      "cell_type": "code",
      "source": [
        "age_range = hearts.Age.quantile(0.9) - hearts.Age.quantile(0.1)\n",
        "BP_range = hearts.RestBP.quantile(0.9) - hearts.RestBP.quantile(0.1)\n",
        "rate_range = hearts.MaxRate.quantile(0.9) - hearts.MaxRate.quantile(0.1)\n",
        "\n",
        "print('Age range (10th to 90th centile) is %3.1f' % age_range, 'years')\n",
        "print('BP range (10th to 90th centile) is %3.1f' % BP_range, 'mmHg')\n",
        "print('Max rate range (10th to 90th centile) is %3.1f' % rate_range, 'beats / min')"
      ],
      "metadata": {
        "colab": {
          "base_uri": "https://localhost:8080/"
        },
        "id": "LLzwYCpYoQIm",
        "outputId": "1d60525e-9099-41c2-ff46-348c6f91a5c6"
      },
      "execution_count": null,
      "outputs": [
        {
          "output_type": "stream",
          "name": "stdout",
          "text": [
            "Age range (10th to 90th centile) is 24.0 years\n",
            "BP range (10th to 90th centile) is 42.8 mmHg\n",
            "Max rate range (10th to 90th centile) is 61.4 beats / min\n"
          ]
        }
      ]
    },
    {
      "cell_type": "code",
      "source": [
        "print ('The change in Max Rate (as a percent of its range) given by the age coefficient (over its range) is %4.1f percent'\n",
        "       % (100 * (beta_Age * age_range) / rate_range))\n",
        "\n",
        "print ('The change in Max Rate (as a percent of its range) given by the BP coefficient (over its range) is %4.1f percent'\n",
        "       % (100 * (beta_RestBP * BP_range) / rate_range))"
      ],
      "metadata": {
        "colab": {
          "base_uri": "https://localhost:8080/"
        },
        "id": "CLrkaPJnoand",
        "outputId": "0f3ba416-ea13-4846-e72c-1e62a5067a33"
      },
      "execution_count": null,
      "outputs": [
        {
          "output_type": "stream",
          "name": "stdout",
          "text": [
            "The change in Max Rate (as a percent of its range) given by the age coefficient (over its range) is -41.2 percent\n",
            "The change in Max Rate (as a percent of its range) given by the BP coefficient (over its range) is  6.4 percent\n"
          ]
        }
      ]
    },
    {
      "cell_type": "code",
      "source": [
        "y_hat = reg.predict(X)\n",
        "\n",
        "fig, a1 = plt.subplots(1, 1)\n",
        "residuals = y_hat - y\n",
        "a1.hist(residuals, bins=10, density=True)\n",
        "_ = a1.set_xlabel('Error in prediction: predicted - actual heart rate')"
      ],
      "metadata": {
        "colab": {
          "base_uri": "https://localhost:8080/",
          "height": 449
        },
        "id": "Azev03fPofzh",
        "outputId": "81bb5e7a-efea-40bf-d660-1f6d95543178"
      },
      "execution_count": null,
      "outputs": [
        {
          "output_type": "display_data",
          "data": {
            "text/plain": [
              "<Figure size 640x480 with 1 Axes>"
            ],
            "image/png": "[encoded data removed]"
          },
          "metadata": {}
        }
      ]
    },
    {
      "cell_type": "code",
      "source": [
        "# The mean squared error\n",
        "print('Root of the mean squared error: %.2f'% mean_squared_error(y, y_hat, squared=False))"
      ],
      "metadata": {
        "colab": {
          "base_uri": "https://localhost:8080/"
        },
        "id": "9Er8dIG4og8_",
        "outputId": "48a1b1fb-58ae-43e9-9894-6c3c24786ee3"
      },
      "execution_count": null,
      "outputs": [
        {
          "output_type": "stream",
          "name": "stdout",
          "text": [
            "Root of the mean squared error: 20.99\n"
          ]
        }
      ]
    },
    {
      "cell_type": "code",
      "source": [
        "# Plot outputs\n",
        "fig, a = plt.subplots(1,1,figsize=(15,10))\n",
        "a.scatter(y_hat, y,  color='black')\n",
        "a.plot(y_hat, y_hat, color='blue', linewidth=3)\n",
        "\n",
        "# two_std = residuals.std() * 2\n",
        "# a.errorbar(y_hat, y, yerr=two_std, fmt='.k')\n",
        "\n",
        "a.set_xlabel('Predicted Value')\n",
        "a.set_ylabel('Actual Value')"
      ],
      "metadata": {
        "colab": {
          "base_uri": "https://localhost:8080/",
          "height": 868
        },
        "id": "HPIcSlTrqcyq",
        "outputId": "8e0675a3-cd45-4dfc-a8ce-251c45415fa2"
      },
      "execution_count": null,
      "outputs": [
        {
          "output_type": "execute_result",
          "data": {
            "text/plain": [
              "Text(0, 0.5, 'Actual Value')"
            ]
          },
          "metadata": {},
          "execution_count": 15
        },
        {
          "output_type": "display_data",
          "data": {
            "text/plain": [
              "<Figure size 1500x1000 with 1 Axes>"
            ],
            "image/png": "[encoded data removed]"
          },
          "metadata": {}
        }
      ]
    },
    {
      "cell_type": "code",
      "source": [
        "Z = StandardScaler().fit_transform(X)\n",
        "\n",
        "reg1 = LinearRegression().fit(Z, y)\n",
        "print('The R2 coefficient of determination is %4.3f' % reg.score(X, y))\n",
        "print('The intercept is %4.1f' % reg1.intercept_)\n",
        "beta_AgeT, beta_RestBPT = reg1.coef_\n",
        "print('Estimated regression coefficient for standardised Age is %4.2f' % beta_AgeT)\n",
        "print('Estimated regression coefficient for standardised RestBP is %4.2f' % beta_RestBPT)"
      ],
      "metadata": {
        "colab": {
          "base_uri": "https://localhost:8080/"
        },
        "id": "BfaAHLIGqrnU",
        "outputId": "1a42df64-8587-41db-a2f3-773bcc4bc5f5"
      },
      "execution_count": null,
      "outputs": [
        {
          "output_type": "stream",
          "name": "stdout",
          "text": [
            "The R2 coefficient of determination is 0.160\n",
            "The intercept is 149.6\n",
            "Estimated regression coefficient for standardised Age is -9.51\n",
            "Estimated regression coefficient for standardised RestBP is 1.64\n"
          ]
        }
      ]
    },
    {
      "cell_type": "code",
      "source": [
        "CPain_d = pd.get_dummies(hearts.ChestPain, drop_first=True)\n",
        "CPain_d"
      ],
      "metadata": {
        "colab": {
          "base_uri": "https://localhost:8080/",
          "height": 423
        },
        "id": "s_7GmZIwrFVa",
        "outputId": "74fa0cf9-6368-459d-80bc-093c082e438b"
      },
      "execution_count": null,
      "outputs": [
        {
          "output_type": "execute_result",
          "data": {
            "text/plain": [
              "     Atypical  Non_anginal  Asymptomatic\n",
              "0           0            0             0\n",
              "1           0            0             0\n",
              "2           0            0             0\n",
              "3           0            0             0\n",
              "4           0            0             0\n",
              "..        ...          ...           ...\n",
              "292         0            0             1\n",
              "293         0            0             1\n",
              "294         0            0             1\n",
              "295         0            0             1\n",
              "296         0            0             1\n",
              "\n",
              "[297 rows x 3 columns]"
            ],
            "text/html": [
              "\n",
              "  <div id=\"df-fef2c809-7dd0-43af-a04e-388ecfb6cbef\" class=\"colab-df-container\">\n",
              "    <div>\n",
              "<style scoped>\n",
              "    .dataframe tbody tr th:only-of-type {\n",
              "        vertical-align: middle;\n",
              "    }\n",
              "\n",
              "    .dataframe tbody tr th {\n",
              "        vertical-align: top;\n",
              "    }\n",
              "\n",
              "    .dataframe thead th {\n",
              "        text-align: right;\n",
              "    }\n",
              "</style>\n",
              "<table border=\"1\" class=\"dataframe\">\n",
              "  <thead>\n",
              "    <tr style=\"text-align: right;\">\n",
              "      <th></th>\n",
              "      <th>Atypical</th>\n",
              "      <th>Non_anginal</th>\n",
              "      <th>Asymptomatic</th>\n",
              "    </tr>\n",
              "  </thead>\n",
              "  <tbody>\n",
              "    <tr>\n",
              "      <th>0</th>\n",
              "      <td>0</td>\n",
              "      <td>0</td>\n",
              "      <td>0</td>\n",
              "    </tr>\n",
              "    <tr>\n",
              "      <th>1</th>\n",
              "      <td>0</td>\n",
              "      <td>0</td>\n",
              "      <td>0</td>\n",
              "    </tr>\n",
              "    <tr>\n",
              "      <th>2</th>\n",
              "      <td>0</td>\n",
              "      <td>0</td>\n",
              "      <td>0</td>\n",
              "    </tr>\n",
              "    <tr>\n",
              "      <th>3</th>\n",
              "      <td>0</td>\n",
              "      <td>0</td>\n",
              "      <td>0</td>\n",
              "    </tr>\n",
              "    <tr>\n",
              "      <th>4</th>\n",
              "      <td>0</td>\n",
              "      <td>0</td>\n",
              "      <td>0</td>\n",
              "    </tr>\n",
              "    <tr>\n",
              "      <th>...</th>\n",
              "      <td>...</td>\n",
              "      <td>...</td>\n",
              "      <td>...</td>\n",
              "    </tr>\n",
              "    <tr>\n",
              "      <th>292</th>\n",
              "      <td>0</td>\n",
              "      <td>0</td>\n",
              "      <td>1</td>\n",
              "    </tr>\n",
              "    <tr>\n",
              "      <th>293</th>\n",
              "      <td>0</td>\n",
              "      <td>0</td>\n",
              "      <td>1</td>\n",
              "    </tr>\n",
              "    <tr>\n",
              "      <th>294</th>\n",
              "      <td>0</td>\n",
              "      <td>0</td>\n",
              "      <td>1</td>\n",
              "    </tr>\n",
              "    <tr>\n",
              "      <th>295</th>\n",
              "      <td>0</td>\n",
              "      <td>0</td>\n",
              "      <td>1</td>\n",
              "    </tr>\n",
              "    <tr>\n",
              "      <th>296</th>\n",
              "      <td>0</td>\n",
              "      <td>0</td>\n",
              "      <td>1</td>\n",
              "    </tr>\n",
              "  </tbody>\n",
              "</table>\n",
              "<p>297 rows × 3 columns</p>\n",
              "</div>\n",
              "    <div class=\"colab-df-buttons\">\n",
              "\n",
              "  <div class=\"colab-df-container\">\n",
              "    <button class=\"colab-df-convert\" onclick=\"convertToInteractive('df-fef2c809-7dd0-43af-a04e-388ecfb6cbef')\"\n",
              "            title=\"Convert this dataframe to an interactive table.\"\n",
              "            style=\"display:none;\">\n",
              "\n",
              "  <svg xmlns=\"http://www.w3.org/2000/svg\" height=\"24px\" viewBox=\"0 -960 960 960\">\n",
              "    <path d=\"M120-120v-720h720v720H120Zm60-500h600v-160H180v160Zm220 220h160v-160H400v160Zm0 220h160v-160H400v160ZM180-400h160v-160H180v160Zm440 0h160v-160H620v160ZM180-180h160v-160H180v160Zm440 0h160v-160H620v160Z\"/>\n",
              "  </svg>\n",
              "    </button>\n",
              "\n",
              "  <style>\n",
              "    .colab-df-container {\n",
              "      display:flex;\n",
              "      gap: 12px;\n",
              "    }\n",
              "\n",
              "    .colab-df-convert {\n",
              "      background-color: #E8F0FE;\n",
              "      border: none;\n",
              "      border-radius: 50%;\n",
              "      cursor: pointer;\n",
              "      display: none;\n",
              "      fill: #1967D2;\n",
              "      height: 32px;\n",
              "      padding: 0 0 0 0;\n",
              "      width: 32px;\n",
              "    }\n",
              "\n",
              "    .colab-df-convert:hover {\n",
              "      background-color: #E2EBFA;\n",
              "      box-shadow: 0px 1px 2px rgba(60, 64, 67, 0.3), 0px 1px 3px 1px rgba(60, 64, 67, 0.15);\n",
              "      fill: #174EA6;\n",
              "    }\n",
              "\n",
              "    .colab-df-buttons div {\n",
              "      margin-bottom: 4px;\n",
              "    }\n",
              "\n",
              "    [theme=dark] .colab-df-convert {\n",
              "      background-color: #3B4455;\n",
              "      fill: #D2E3FC;\n",
              "    }\n",
              "\n",
              "    [theme=dark] .colab-df-convert:hover {\n",
              "      background-color: #434B5C;\n",
              "      box-shadow: 0px 1px 3px 1px rgba(0, 0, 0, 0.15);\n",
              "      filter: drop-shadow(0px 1px 2px rgba(0, 0, 0, 0.3));\n",
              "      fill: #FFFFFF;\n",
              "    }\n",
              "  </style>\n",
              "\n",
              "    <script>\n",
              "      const buttonEl =\n",
              "        document.querySelector('#df-fef2c809-7dd0-43af-a04e-388ecfb6cbef button.colab-df-convert');\n",
              "      buttonEl.style.display =\n",
              "        google.colab.kernel.accessAllowed ? 'block' : 'none';\n",
              "\n",
              "      async function convertToInteractive(key) {\n",
              "        const element = document.querySelector('#df-fef2c809-7dd0-43af-a04e-388ecfb6cbef');\n",
              "        const dataTable =\n",
              "          await google.colab.kernel.invokeFunction('convertToInteractive',\n",
              "                                                    [key], {});\n",
              "        if (!dataTable) return;\n",
              "\n",
              "        const docLinkHtml = 'Like what you see? Visit the ' +\n",
              "          '<a target=\"_blank\" href=https://colab.research.google.com/notebooks/data_table.ipynb>data table notebook</a>'\n",
              "          + ' to learn more about interactive tables.';\n",
              "        element.innerHTML = '';\n",
              "        dataTable['output_type'] = 'display_data';\n",
              "        await google.colab.output.renderOutput(dataTable, element);\n",
              "        const docLink = document.createElement('div');\n",
              "        docLink.innerHTML = docLinkHtml;\n",
              "        element.appendChild(docLink);\n",
              "      }\n",
              "    </script>\n",
              "  </div>\n",
              "\n",
              "\n",
              "<div id=\"df-2031ae01-9ddd-4c88-a1d1-3d9de62736fa\">\n",
              "  <button class=\"colab-df-quickchart\" onclick=\"quickchart('df-2031ae01-9ddd-4c88-a1d1-3d9de62736fa')\"\n",
              "            title=\"Suggest charts.\"\n",
              "            style=\"display:none;\">\n",
              "\n",
              "<svg xmlns=\"http://www.w3.org/2000/svg\" height=\"24px\"viewBox=\"0 0 24 24\"\n",
              "     width=\"24px\">\n",
              "    <g>\n",
              "        <path d=\"M19 3H5c-1.1 0-2 .9-2 2v14c0 1.1.9 2 2 2h14c1.1 0 2-.9 2-2V5c0-1.1-.9-2-2-2zM9 17H7v-7h2v7zm4 0h-2V7h2v10zm4 0h-2v-4h2v4z\"/>\n",
              "    </g>\n",
              "</svg>\n",
              "  </button>\n",
              "\n",
              "<style>\n",
              "  .colab-df-quickchart {\n",
              "    background-color: #E8F0FE;\n",
              "    border: none;\n",
              "    border-radius: 50%;\n",
              "    cursor: pointer;\n",
              "    display: none;\n",
              "    fill: #1967D2;\n",
              "    height: 32px;\n",
              "    padding: 0 0 0 0;\n",
              "    width: 32px;\n",
              "  }\n",
              "\n",
              "  .colab-df-quickchart:hover {\n",
              "    background-color: #E2EBFA;\n",
              "    box-shadow: 0px 1px 2px rgba(60, 64, 67, 0.3), 0px 1px 3px 1px rgba(60, 64, 67, 0.15);\n",
              "    fill: #174EA6;\n",
              "  }\n",
              "\n",
              "  [theme=dark] .colab-df-quickchart {\n",
              "    background-color: #3B4455;\n",
              "    fill: #D2E3FC;\n",
              "  }\n",
              "\n",
              "  [theme=dark] .colab-df-quickchart:hover {\n",
              "    background-color: #434B5C;\n",
              "    box-shadow: 0px 1px 3px 1px rgba(0, 0, 0, 0.15);\n",
              "    filter: drop-shadow(0px 1px 2px rgba(0, 0, 0, 0.3));\n",
              "    fill: #FFFFFF;\n",
              "  }\n",
              "</style>\n",
              "\n",
              "  <script>\n",
              "    async function quickchart(key) {\n",
              "      const charts = await google.colab.kernel.invokeFunction(\n",
              "          'suggestCharts', [key], {});\n",
              "    }\n",
              "    (() => {\n",
              "      let quickchartButtonEl =\n",
              "        document.querySelector('#df-2031ae01-9ddd-4c88-a1d1-3d9de62736fa button');\n",
              "      quickchartButtonEl.style.display =\n",
              "        google.colab.kernel.accessAllowed ? 'block' : 'none';\n",
              "    })();\n",
              "  </script>\n",
              "</div>\n",
              "    </div>\n",
              "  </div>\n"
            ]
          },
          "metadata": {},
          "execution_count": 17
        }
      ]
    },
    {
      "cell_type": "code",
      "source": [
        "X2 = np.column_stack((hearts.Age,hearts.RestBP, CPain_d.Atypical, CPain_d.Non_anginal, CPain_d.Asymptomatic))\n",
        "reg2 = LinearRegression().fit(X2, y)\n",
        "print('The R2 coefficient of determination is %4.3f' % reg2.score(X2, y))\n",
        "print('The intercept is %4.1f' % reg2.intercept_)\n",
        "print('The regression coefficients are:', reg2.coef_)"
      ],
      "metadata": {
        "id": "aa47XRI7rLXs",
        "outputId": "764365e1-effe-45d6-9de7-61e5178778b5",
        "colab": {
          "base_uri": "https://localhost:8080/"
        }
      },
      "execution_count": null,
      "outputs": [
        {
          "output_type": "stream",
          "name": "stdout",
          "text": [
            "The R2 coefficient of determination is 0.272\n",
            "The intercept is 194.7\n",
            "The regression coefficients are: [ -0.91766338   0.08884194   3.67843688  -1.27757522 -14.66178106]\n"
          ]
        }
      ]
    },
    {
      "cell_type": "code",
      "source": [
        "import numpy as np\n",
        "import scipy.stats as stats"
      ],
      "metadata": {
        "id": "wP88z2WkO99l"
      },
      "execution_count": 2,
      "outputs": []
    },
    {
      "cell_type": "markdown",
      "source": [
        "Here's an example of how to conduct an A/B test for a website's conversion rate using Python. In this example, we'll simulate the A/B test using random data, but you can apply the same principles to real-world data.\n",
        "In this code, we simulate data for a control group (A) and a treatment group (B) with different conversion rates. We then calculate the z-score and p-value to determine whether the difference in conversion rates is statistically significant. Finally, we interpret the results based on the p-value and the significance level.\n",
        "\n",
        "Note that this is a simplified example using simulated data. In a real-world scenario, you would need to collect actual data from your website and perform the A/B test using appropriate statistical tools. Additionally, consider using libraries like scipy.stats for more accurate statistical calculations.\n"
      ],
      "metadata": {
        "id": "9aHO3BIyPYcm"
      }
    },
    {
      "cell_type": "code",
      "source": [
        "# Simulate data for control group (A) and treatment group (B)\n",
        "np.random.seed(42)\n",
        "sample_size_A = 1000\n",
        "sample_size_B = 1000\n",
        "\n",
        "conversion_rate_A = 0.1  # Conversion rate for control group\n",
        "conversion_rate_B = 0.12  # Conversion rate for treatment group\n",
        "\n",
        "successes_A = np.random.binomial(n=sample_size_A, p=conversion_rate_A)\n",
        "successes_B = np.random.binomial(n=sample_size_B, p=conversion_rate_B)"
      ],
      "metadata": {
        "id": "7RMhhg4LO28N"
      },
      "execution_count": 3,
      "outputs": []
    },
    {
      "cell_type": "code",
      "source": [
        "# Perform A/B test\n",
        "alpha = 0.05  # Significance level"
      ],
      "metadata": {
        "id": "A0dTuGprO_dS"
      },
      "execution_count": 4,
      "outputs": []
    },
    {
      "cell_type": "code",
      "source": [
        "# Calculate conversion rates\n",
        "conversion_rate_estimate_A = successes_A / sample_size_A\n",
        "conversion_rate_estimate_B = successes_B / sample_size_B"
      ],
      "metadata": {
        "id": "i0gdoBUvPDZY"
      },
      "execution_count": 5,
      "outputs": []
    },
    {
      "cell_type": "code",
      "source": [
        "\n",
        "# Calculate standard errors\n",
        "se_A = np.sqrt(conversion_rate_estimate_A * (1 - conversion_rate_estimate_A) / sample_size_A)\n",
        "se_B = np.sqrt(conversion_rate_estimate_B * (1 - conversion_rate_estimate_B) / sample_size_B)"
      ],
      "metadata": {
        "id": "DGG0nsH1PG6G"
      },
      "execution_count": 6,
      "outputs": []
    },
    {
      "cell_type": "code",
      "source": [
        "# Calculate z-score\n",
        "z_score = (conversion_rate_estimate_B - conversion_rate_estimate_A) / np.sqrt(se_A**2 + se_B**2)"
      ],
      "metadata": {
        "id": "tUn4i2URPJTO"
      },
      "execution_count": 7,
      "outputs": []
    },
    {
      "cell_type": "code",
      "source": [
        "# Calculate p-value\n",
        "p_value = 1 - stats.norm.cdf(z_score)"
      ],
      "metadata": {
        "id": "t9EoZX45PMNA"
      },
      "execution_count": 8,
      "outputs": []
    },
    {
      "cell_type": "code",
      "source": [
        "\n",
        "# Compare p-value to significance level\n",
        "if p_value < alpha:\n",
        "    print(\"Reject the null hypothesis\")\n",
        "else:\n",
        "    print(\"Fail to reject the null hypothesis\")"
      ],
      "metadata": {
        "colab": {
          "base_uri": "https://localhost:8080/"
        },
        "id": "aF31ogLOPPRe",
        "outputId": "88dc09d2-827b-4c6f-a659-7334c0757668"
      },
      "execution_count": 9,
      "outputs": [
        {
          "output_type": "stream",
          "name": "stdout",
          "text": [
            "Reject the null hypothesis\n"
          ]
        }
      ]
    },
    {
      "cell_type": "code",
      "source": [
        "# Interpret the results\n",
        "if conversion_rate_estimate_B > conversion_rate_estimate_A:\n",
        "    print(\"The treatment group (B) has a higher conversion rate.\")\n",
        "else:\n",
        "    print(\"There is no significant difference in conversion rates between the groups.\")"
      ],
      "metadata": {
        "colab": {
          "base_uri": "https://localhost:8080/"
        },
        "id": "I3_XNbynPSpU",
        "outputId": "88d16bdf-9155-4266-cca8-d4d1c8496c63"
      },
      "execution_count": 10,
      "outputs": [
        {
          "output_type": "stream",
          "name": "stdout",
          "text": [
            "The treatment group (B) has a higher conversion rate.\n"
          ]
        }
      ]
    },
    {
      "cell_type": "code",
      "source": [
        "import numpy as np\n",
        "import scipy.stats as stats\n",
        "\n",
        "# Simulated data for two groups (A and B)\n",
        "np.random.seed(42)\n",
        "group_A = np.random.normal(loc=100, scale=15, size=100)  # Group A data\n",
        "group_B = np.random.normal(loc=105, scale=15, size=100)  # Group B data\n",
        "\n",
        "# Perform A/B testing\n",
        "t_statistic, p_value = stats.ttest_ind(group_A, group_B)\n",
        "\n",
        "# Set significance level\n",
        "alpha = 0.05\n",
        "\n",
        "# Check the null hypothesis\n",
        "if p_value < alpha:\n",
        "    print(\"Reject the null hypothesis\")\n",
        "    print(\"There is a significant difference between Group A and Group B\")\n",
        "else:\n",
        "    print(\"Fail to reject the null hypothesis\")\n",
        "    print(\"There is no significant difference between Group A and Group B\")\n",
        "\n",
        "# Print the results\n",
        "print(\"T-statistic:\", t_statistic)\n",
        "print(\"P-value:\", p_value)\n"
      ],
      "metadata": {
        "id": "jxFNfRvHSb59"
      },
      "execution_count": null,
      "outputs": []
    },
    {
      "cell_type": "markdown",
      "source": [
        "**Hypothesis testing**"
      ],
      "metadata": {
        "id": "82ASU2ElS6jg"
      }
    },
    {
      "cell_type": "code",
      "source": [
        "import numpy as np\n",
        "import scipy.stats as stats"
      ],
      "metadata": {
        "id": "t0mqR1p8SdHj"
      },
      "execution_count": 11,
      "outputs": []
    },
    {
      "cell_type": "code",
      "source": [
        "# Simulated data for two groups (A and B)\n",
        "np.random.seed(42)\n",
        "group_A = np.random.normal(loc=100, scale=15, size=100)  # Group A data\n",
        "group_B = np.random.normal(loc=105, scale=15, size=100)  # Group B data\n"
      ],
      "metadata": {
        "id": "a0F7EL0QSfNw"
      },
      "execution_count": 12,
      "outputs": []
    },
    {
      "cell_type": "code",
      "source": [
        "# Perform A/B testing\n",
        "t_statistic, p_value = stats.ttest_ind(group_A, group_B)"
      ],
      "metadata": {
        "id": "BNCA5bRBShxd"
      },
      "execution_count": 13,
      "outputs": []
    },
    {
      "cell_type": "code",
      "source": [
        "# Set significance level\n",
        "alpha = 0.05"
      ],
      "metadata": {
        "id": "NZqE0d2QSkFB"
      },
      "execution_count": 14,
      "outputs": []
    },
    {
      "cell_type": "code",
      "source": [
        "\n",
        "# Check the null hypothesis\n",
        "if p_value < alpha:\n",
        "    print(\"Reject the null hypothesis\")\n",
        "    print(\"There is a significant difference between Group A and Group B\")\n",
        "else:\n",
        "    print(\"Fail to reject the null hypothesis\")\n",
        "    print(\"There is no significant difference between Group A and Group B\")"
      ],
      "metadata": {
        "colab": {
          "base_uri": "https://localhost:8080/"
        },
        "id": "DZdgK6QXSm6Z",
        "outputId": "1d29797b-3d00-43cb-e665-a2111daed7b2"
      },
      "execution_count": 16,
      "outputs": [
        {
          "output_type": "stream",
          "name": "stdout",
          "text": [
            "Reject the null hypothesis\n",
            "There is a significant difference between Group A and Group B\n"
          ]
        }
      ]
    },
    {
      "cell_type": "code",
      "source": [
        "# Print the results\n",
        "print(\"T-statistic:\", t_statistic)\n",
        "print(\"P-value:\", p_value)"
      ],
      "metadata": {
        "colab": {
          "base_uri": "https://localhost:8080/"
        },
        "id": "wY6f7Et2StlD",
        "outputId": "5b265793-fde2-49d5-8d5d-414f7af168a2"
      },
      "execution_count": 17,
      "outputs": [
        {
          "output_type": "stream",
          "name": "stdout",
          "text": [
            "T-statistic: -3.489107943590808\n",
            "P-value: 0.0005972138330187973\n"
          ]
        }
      ]
    },
    {
      "cell_type": "markdown",
      "source": [
        "We start by simulating two groups of data, representing two scenarios (A and B) that we want to compare. In this example, we're comparing the average performance of two groups.\n",
        "\n",
        "We use the scipy.stats.ttest_ind function to perform an independent two-sample t-test, which is commonly used for A/B testing. This calculates the t-statistic and the p-value.\n",
        "\n",
        "We set a significance level (alpha) of 0.05, which is a common choice in hypothesis testing.\n",
        "\n",
        "We compare the p-value with the significance level. If the p-value is less than alpha, we reject the null hypothesis and conclude that there is a significant difference between the two groups. Otherwise, we fail to reject the null hypothesis and conclude that there is no significant difference.\n",
        "\n",
        "Finally, we print the t-statistic, p-value, and the outcome of the hypothesis test."
      ],
      "metadata": {
        "id": "t_co2cK2S16Q"
      }
    }
  ]
}