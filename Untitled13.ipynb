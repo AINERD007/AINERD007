{
  "nbformat": 4,
  "nbformat_minor": 0,
  "metadata": {
    "colab": {
      "provenance": [],
      "authorship_tag": "ABX9TyMEGk3QSAanhRGLVLmQmw/b",
      "include_colab_link": true
    },
    "kernelspec": {
      "name": "python3",
      "display_name": "Python 3"
    },
    "language_info": {
      "name": "python"
    }
  },
  "cells": [
    {
      "cell_type": "markdown",
      "metadata": {
        "id": "view-in-github",
        "colab_type": "text"
      },
      "source": [
        "<a href=\"https://colab.research.google.com/github/AINERD007/AINERD007/blob/main/Untitled13.ipynb\" target=\"_parent\"><img src=\"https://colab.research.google.com/assets/colab-badge.svg\" alt=\"Open In Colab\"/></a>"
      ]
    },
    {
      "cell_type": "markdown",
      "source": [
        "Modern Portfolio Theory: Optimize Your Investments with Markowitz Portfolio Selection (Machine learning implementation)"
      ],
      "metadata": {
        "id": "5ywO5Ox54cDC"
      }
    },
    {
      "cell_type": "code",
      "source": [
        "import numpy as np\n",
        "import pandas as pd\n",
        "import matplotlib.pyplot as plt\n",
        "\n",
        "# Simulated annual returns and standard deviations for the three asset classes\n",
        "returns = np.array([0.20, 0.12, 0.08])\n",
        "std_dev = np.array([0.15, 0.10, 0.12])\n",
        "\n",
        "# Generate random weights for the Monte Carlo Simulation\n",
        "np.random.seed(42)\n",
        "num_portfolios = 10000\n",
        "all_weights = np.zeros((num_portfolios, len(returns)))\n",
        "\n",
        "for portfolio in range(num_portfolios):\n",
        "    weights = np.random.random(len(returns))\n",
        "    weights /= np.sum(weights)\n",
        "    all_weights[portfolio, :] = weights\n",
        "\n",
        "# Calculate portfolio returns and risks\n",
        "port_returns = np.dot(all_weights, returns)\n",
        "port_risk = np.array([np.sqrt(np.dot(weights.T, np.dot(np.cov(returns), weights))) for weights in all_weights])\n",
        "\n",
        "# Calculate Sharpe Ratio to find the optimal portfolio\n",
        "sharpe_ratio = port_returns / port_risk\n",
        "optimal_portfolio_index = np.argmax(sharpe_ratio)\n",
        "\n",
        "# Extract the optimal weights for the portfolio\n",
        "optimal_weights = all_weights[optimal_portfolio_index, :]\n",
        "\n",
        "# Visualize the efficient frontier\n",
        "plt.scatter(port_risk, port_returns, c=sharpe_ratio, cmap='viridis')\n",
        "plt.colorbar(label='Sharpe Ratio')\n",
        "plt.xlabel('Risk (Standard Deviation)')\n",
        "plt.ylabel('Return')\n",
        "plt.title('Efficient Frontier')\n",
        "plt.scatter(port_risk[optimal_portfolio_index], port_returns[optimal_portfolio_index], marker='*', color='r', s=200, label='Optimal Portfolio')\n",
        "plt.legend()\n",
        "plt.show()\n"
      ],
      "metadata": {
        "id": "FgZI_u5s4fEe"
      },
      "execution_count": null,
      "outputs": []
    },
    {
      "cell_type": "markdown",
      "source": [
        "The provided Python code demonstrates the concept of Modern Portfolio Theory (MPT) and how to construct an efficient frontier using a Monte Carlo Simulation. Let's break down the code explanation in high level:\n",
        "\n",
        "Simulated Annual Returns and Standard Deviations:\n",
        "The code starts by defining the annual returns and standard deviations for three asset classes. These values represent the historical performance and risk of each asset class.\n",
        "\n",
        "Monte Carlo Simulation:\n",
        "The Monte Carlo Simulation is used to generate a large number of random portfolios with different weight combinations for the three asset classes. It creates \"num_portfolios\" sets of random weights that sum up to 1, representing the proportion of investment in each asset class.\n",
        "\n",
        "Portfolio Returns and Risks:\n",
        "The code then calculates the expected returns and risks (standard deviations) for each random portfolio. The returns are obtained by taking the dot product of the random weights with the corresponding annual returns. The risk is calculated using the formula for portfolio standard deviation, considering the covariance matrix of the returns.\n",
        "\n",
        "Sharpe Ratio and Optimal Portfolio:\n",
        "The Sharpe Ratio is computed for each portfolio, which represents the risk-adjusted return. It is calculated as the ratio of portfolio returns to portfolio risk. The code identifies the index of the portfolio with the highest Sharpe Ratio, representing the optimal portfolio.\n",
        "\n",
        "Visualizing the Efficient Frontier:\n",
        "Finally, the code uses matplotlib to create a scatter plot of the efficient frontier. The x-axis represents the risk (standard deviation), the y-axis represents the returns, and the color of the points corresponds to the Sharpe Ratio. The red star marker on the plot represents the optimal portfolio with the highest Sharpe Ratio."
      ],
      "metadata": {
        "id": "evWVHyrQ4i7k"
      }
    },
    {
      "cell_type": "code",
      "source": [],
      "metadata": {
        "id": "gVfEQK_5430e"
      },
      "execution_count": null,
      "outputs": []
    },
    {
      "cell_type": "markdown",
      "source": [],
      "metadata": {
        "id": "KiY2ZEJF4zZu"
      }
    }
  ]
}