{
  "nbformat": 4,
  "nbformat_minor": 0,
  "metadata": {
    "colab": {
      "provenance": [],
      "authorship_tag": "ABX9TyNggOY0vV2XLtNgx2kf9dSk",
      "include_colab_link": true
    },
    "kernelspec": {
      "name": "python3",
      "display_name": "Python 3"
    },
    "language_info": {
      "name": "python"
    }
  },
  "cells": [
    {
      "cell_type": "markdown",
      "metadata": {
        "id": "view-in-github",
        "colab_type": "text"
      },
      "source": [
        "<a href=\"https://colab.research.google.com/github/AINERD007/AINERD007/blob/main/Working_with%C2%A0data.ipynb\" target=\"_parent\"><img src=\"https://colab.research.google.com/assets/colab-badge.svg\" alt=\"Open In Colab\"/></a>"
      ]
    },
    {
      "cell_type": "markdown",
      "source": [
        "**Exploring One-Dimensional Data:**"
      ],
      "metadata": {
        "id": "8l5_fz7LNS5z"
      }
    },
    {
      "cell_type": "code",
      "execution_count": null,
      "metadata": {
        "id": "ZP1HL21EGUGC"
      },
      "outputs": [],
      "source": [
        "import pandas as pd\n",
        "import matplotlib.pyplot as plt\n",
        "\n",
        "# Load historical stock prices from a CSV file\n",
        "data = pd.read_csv('stock_prices.csv')\n",
        "\n",
        "# Summarize the data\n",
        "mean_price = data['Close'].mean()\n",
        "min_price = data['Close'].min()\n",
        "max_price = data['Close'].max()\n",
        "\n",
        "print(f\"Mean Price: {mean_price}\")\n",
        "print(f\"Minimum Price: {min_price}\")\n",
        "print(f\"Maximum Price: {max_price}\")\n",
        "\n",
        "# Visualize the data\n",
        "plt.plot(data['Date'], data['Close'])\n",
        "plt.xlabel('Date')\n",
        "plt.ylabel('Stock Price')\n",
        "plt.title('Historical Stock Prices')\n",
        "plt.xticks(rotation=45)\n",
        "plt.show()\n",
        "\n",
        "# Identify outliers\n",
        "outliers = data[data['Close'] > (mean_price + 3 * data['Close'].std())]\n",
        "print(\"Outliers:\")\n",
        "print(outliers)\n",
        "\n",
        "# Analyze trends\n",
        "rolling_mean = data['Close'].rolling(window=30).mean()\n",
        "plt.plot(data['Date'], data['Close'], label='Stock Price')\n",
        "plt.plot(data['Date'], rolling_mean, label='30-day Moving Average')\n",
        "plt.xlabel('Date')\n",
        "plt.ylabel('Stock Price')\n",
        "plt.title('Stock Price and 30-day Moving Average')\n",
        "plt.xticks(rotation=45)\n",
        "plt.legend()\n",
        "plt.show()\n"
      ]
    },
    {
      "cell_type": "markdown",
      "source": [
        "The outcome of this code will be a series of visualizations and summary statistics related to historical stock price data. Specifically, the code will:\n",
        "\n",
        "Print the mean, minimum, and maximum closing prices of the stock, providing a sense of the overall price range and average value.\n",
        "Display a line plot showing the stock prices over time, allowing us to visualize the historical price trends and fluctuations. The x-axis will represent dates, and the y-axis will represent the stock prices.\n",
        "Identify and print any outlier data points, which are prices that significantly deviate from the mean. Outliers may indicate abnormal price movements or events in the stock market.\n",
        "Display another line plot overlaying the 30-day moving average of the stock prices on top of the original stock price plot. The moving average helps identify long-term trends and smooths out short-term fluctuations, providing insights into the stock's overall price direction.\n",
        "The outcome of this code will be a comprehensive exploration of the historical stock price data, giving us a better understanding of the stock's behavior, identifying any unusual price movements, and providing insights into potential trends in the stock's price movements over time."
      ],
      "metadata": {
        "id": "2L8sN6lZHBtd"
      }
    },
    {
      "cell_type": "markdown",
      "source": [
        "**Exploring Two-Dimensional Data:**"
      ],
      "metadata": {
        "id": "5EsOZUI0Gecn"
      }
    },
    {
      "cell_type": "code",
      "source": [
        "import pandas as pd\n",
        "import matplotlib.pyplot as plt\n",
        "\n",
        "# Load housing price data from a CSV file\n",
        "data = pd.read_csv('housing_prices.csv')\n",
        "\n",
        "# Summarize the data\n",
        "mean_price = data['Price'].mean()\n",
        "correlation = data['Price'].corr(data['Area'])\n",
        "\n",
        "print(f\"Mean Price: {mean_price}\")\n",
        "print(f\"Correlation between Price and Area: {correlation}\")\n",
        "\n",
        "# Visualize the data\n",
        "plt.scatter(data['Area'], data['Price'])\n",
        "plt.xlabel('Area (in sq. ft.)')\n",
        "plt.ylabel('Price (in USD)')\n",
        "plt.title('Housing Prices vs. Area')\n",
        "plt.show()\n",
        "\n",
        "# Identify outliers\n",
        "outliers = data[data['Price'] > (mean_price + 3 * data['Price'].std())]\n",
        "print(\"Outliers:\")\n",
        "print(outliers)\n",
        "\n",
        "# Regression analysis\n",
        "from scipy import stats\n",
        "\n",
        "slope, intercept, r_value, p_value, std_err = stats.linregress(data['Area'], data['Price'])\n",
        "print(f\"Slope: {slope}, Intercept: {intercept}, R-value: {r_value}, P-value: {p_value}, Std Err: {std_err}\")\n"
      ],
      "metadata": {
        "id": "x3ab4VTYHqyd"
      },
      "execution_count": null,
      "outputs": []
    },
    {
      "cell_type": "markdown",
      "source": [
        "The code will display the mean price and correlation coefficient between housing prices and area.\n",
        "It will show a scatter plot with data points, revealing the distribution of housing prices concerning their areas.\n",
        "The code will print any outlier data points that significantly differ from the mean price.\n",
        "Lastly, the code will provide regression analysis statistics, such as slope and intercept of the regression line, R-value indicating the strength of the relationship, p-value indicating significance, and standard error. These statistics help understand the linear relationship between housing prices and area and determine whether it is statistically significant."
      ],
      "metadata": {
        "id": "dPXAD-4cIKak"
      }
    },
    {
      "cell_type": "markdown",
      "source": [
        "**Exploring High-Dimensional Data:**"
      ],
      "metadata": {
        "id": "w-2u-KaAIRAT"
      }
    },
    {
      "cell_type": "markdown",
      "source": [],
      "metadata": {
        "id": "oDb5IZH-NOH5"
      }
    },
    {
      "cell_type": "code",
      "source": [
        "import pandas as pd\n",
        "import matplotlib.pyplot as plt\n",
        "from sklearn.cluster import KMeans\n",
        "from sklearn.preprocessing import StandardScaler\n",
        "\n",
        "# Load customer data from a CSV file\n",
        "data = pd.read_csv('customer_data.csv')\n",
        "\n",
        "# Data Preprocessing\n",
        "data.dropna(inplace=True)  # Remove rows with missing values\n",
        "features = data.iloc[:, 1:]  # Extract feature columns\n",
        "\n",
        "# Standardize the features\n",
        "scaler = StandardScaler()\n",
        "scaled_features = scaler.fit_transform(features)\n",
        "\n",
        "# K-Means Clustering\n",
        "num_clusters = 5\n",
        "kmeans = KMeans(n_clusters=num_clusters)\n",
        "data['Cluster'] = kmeans.fit_predict(scaled_features)\n",
        "\n",
        "# Visualization using PCA for dimensionality reduction\n",
        "from sklearn.decomposition import PCA\n",
        "\n",
        "pca = PCA(n_components=2)\n",
        "pca_features = pca.fit_transform(scaled_features)\n",
        "data['PCA1'] = pca_features[:, 0]\n",
        "data['PCA2'] = pca_features[:, 1]\n",
        "\n",
        "# Plot the clusters using PCA\n",
        "plt.scatter(data['PCA1'], data['PCA2'], c=data['Cluster'], cmap='viridis')\n",
        "plt.xlabel('PCA1')\n",
        "plt.ylabel('PCA2')\n",
        "plt.title('Customer Segmentation')\n",
        "plt.show()\n"
      ],
      "metadata": {
        "id": "BLXjg5N_IM-9"
      },
      "execution_count": null,
      "outputs": []
    },
    {
      "cell_type": "markdown",
      "source": [
        "The code will visualize customer segments in a 2D plot using PCA components (PCA1 and PCA2).\n",
        "Each data point on the plot will represent a customer, and its color will indicate the cluster it belongs to.\n",
        "By analyzing the plot, we can observe how customers are clustered based on their feature similarity. The plot should show distinct clusters if customer segmentation is successful.\n",
        "The number of clusters can be adjusted by changing the 'num_clusters' variable to explore different customer segmentation scenarios."
      ],
      "metadata": {
        "id": "aGLZ0Q5aM-Mz"
      }
    }
  ]
}