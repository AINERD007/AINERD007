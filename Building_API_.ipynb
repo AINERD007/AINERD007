{
  "nbformat": 4,
  "nbformat_minor": 0,
  "metadata": {
    "colab": {
      "provenance": [],
      "authorship_tag": "ABX9TyMhYFt0lAbHI0QqzU/c5BY4",
      "include_colab_link": true
    },
    "kernelspec": {
      "name": "python3",
      "display_name": "Python 3"
    },
    "language_info": {
      "name": "python"
    }
  },
  "cells": [
    {
      "cell_type": "markdown",
      "metadata": {
        "id": "view-in-github",
        "colab_type": "text"
      },
      "source": [
        "<a href=\"https://colab.research.google.com/github/AINERD007/AINERD007/blob/main/Building_API_.ipynb\" target=\"_parent\"><img src=\"https://colab.research.google.com/assets/colab-badge.svg\" alt=\"Open In Colab\"/></a>"
      ]
    },
    {
      "cell_type": "markdown",
      "source": [
        "This example shows to build a RESTful API using Python and the Flask web framework. This API will provide basic CRUD (Create, Read, Update, Delete) functionality for managing a list of items.\n",
        "\n",
        "\n"
      ],
      "metadata": {
        "id": "GGt_LOrrBB1M"
      }
    },
    {
      "cell_type": "code",
      "source": [
        "from flask import Flask, request, jsonify\n",
        "app = Flask(__name__)"
      ],
      "metadata": {
        "id": "YT9lhcGcARdP"
      },
      "execution_count": 3,
      "outputs": []
    },
    {
      "cell_type": "code",
      "source": [
        "# Sample data (replace with your own data storage)\n",
        "items = [\n",
        "    {\"id\": 1, \"name\": \"Item 1\"},\n",
        "    {\"id\": 2, \"name\": \"Item 2\"},\n",
        "]"
      ],
      "metadata": {
        "id": "Rkb1vTXhAUIW"
      },
      "execution_count": 4,
      "outputs": []
    },
    {
      "cell_type": "code",
      "source": [
        "# API Endpoint to list all items\n",
        "@app.route('/items', methods=['GET'])\n",
        "def get_items():\n",
        "    return jsonify({\"items\": items})"
      ],
      "metadata": {
        "id": "OXc1SUkiAew8"
      },
      "execution_count": 5,
      "outputs": []
    },
    {
      "cell_type": "code",
      "source": [
        "# API Endpoint to retrieve a single item by ID\n",
        "@app.route('/items/<int:item_id>', methods=['GET'])\n",
        "def get_item(item_id):\n",
        "    item = next((item for item in items if item[\"id\"] == item_id), None)\n",
        "    if item:\n",
        "        return jsonify({\"item\": item})\n",
        "    return jsonify({\"message\": \"Item not found\"}), 404"
      ],
      "metadata": {
        "id": "8wnLLpvkAkc3"
      },
      "execution_count": 6,
      "outputs": []
    },
    {
      "cell_type": "code",
      "source": [
        "# API Endpoint to create a new item\n",
        "@app.route('/items', methods=['POST'])\n",
        "def create_item():\n",
        "    data = request.get_json()\n",
        "    if \"name\" in data:\n",
        "        new_item = {\"id\": len(items) + 1, \"name\": data[\"name\"]}\n",
        "        items.append(new_item)\n",
        "        return jsonify({\"message\": \"Item created successfully\", \"item\": new_item}), 201\n",
        "    return jsonify({\"message\": \"Invalid request data\"}), 400"
      ],
      "metadata": {
        "id": "ZqjtsdGCAoG1"
      },
      "execution_count": 7,
      "outputs": []
    },
    {
      "cell_type": "code",
      "source": [
        "\n",
        "# API Endpoint to update an existing item by ID\n",
        "@app.route('/items/<int:item_id>', methods=['PUT'])\n",
        "def update_item(item_id):\n",
        "    data = request.get_json()\n",
        "    item = next((item for item in items if item[\"id\"] == item_id), None)\n",
        "    if item and \"name\" in data:\n",
        "        item[\"name\"] = data[\"name\"]\n",
        "        return jsonify({\"message\": \"Item updated successfully\", \"item\": item})\n",
        "    return jsonify({\"message\": \"Item not found or invalid request data\"}), 404"
      ],
      "metadata": {
        "id": "4k8vTMeFApIe"
      },
      "execution_count": 8,
      "outputs": []
    },
    {
      "cell_type": "code",
      "source": [
        "\n",
        "# API Endpoint to delete an item by ID\n",
        "@app.route('/items/<int:item_id>', methods=['DELETE'])\n",
        "def delete_item(item_id):\n",
        "    global items\n",
        "    initial_length = len(items)\n",
        "    items = [item for item in items if item[\"id\"] != item_id]\n",
        "    if len(items) < initial_length:\n",
        "        return jsonify({\"message\": \"Item deleted successfully\"}), 200\n",
        "    return jsonify({\"message\": \"Item not found\"}), 404\n",
        "\n",
        "if __name__ == '__main__':\n",
        "    app.run(debug=True)"
      ],
      "metadata": {
        "colab": {
          "base_uri": "https://localhost:8080/"
        },
        "id": "kaZ2eSEGAr2d",
        "outputId": "e7cc50c3-7dac-41b9-8259-a7b1407e360a"
      },
      "execution_count": 10,
      "outputs": [
        {
          "output_type": "stream",
          "name": "stdout",
          "text": [
            " * Serving Flask app '__main__'\n",
            " * Debug mode: on\n"
          ]
        },
        {
          "output_type": "stream",
          "name": "stderr",
          "text": [
            "INFO:werkzeug:\u001b[31m\u001b[1mWARNING: This is a development server. Do not use it in a production deployment. Use a production WSGI server instead.\u001b[0m\n",
            " * Running on http://127.0.0.1:5000\n",
            "INFO:werkzeug:\u001b[33mPress CTRL+C to quit\u001b[0m\n",
            "INFO:werkzeug: * Restarting with stat\n"
          ]
        }
      ]
    },
    {
      "cell_type": "markdown",
      "source": [
        "In this example, we use Flask to create a basic API with endpoints for listing items, retrieving a single item by ID, creating a new item, updating an existing item, and deleting an item. The data is stored in a simple list for demonstration purposes, but in a real application, you would typically use a database.\n",
        "\n",
        "You can run this code locally, and it will provide a basic RESTful API with endpoints for managing items. You can test it using tools like curl or Postman by making GET, POST, PUT, and DELETE requests to the specified endpoints."
      ],
      "metadata": {
        "id": "wPjKnlc5BaIg"
      }
    },
    {
      "cell_type": "code",
      "source": [
        "from flask import Flask, request, jsonify\n",
        "\n",
        "app = Flask(__name__)\n",
        "\n",
        "# Sample data (replace with your own data storage)\n",
        "items = [\n",
        "    {\"id\": 1, \"name\": \"Item 1\"},\n",
        "    {\"id\": 2, \"name\": \"Item 2\"},\n",
        "]\n",
        "\n",
        "# API Endpoint to list all items\n",
        "@app.route('/items', methods=['GET'])\n",
        "def get_items():\n",
        "    return jsonify({\"items\": items})\n",
        "\n",
        "# API Endpoint to retrieve a single item by ID\n",
        "@app.route('/items/<int:item_id>', methods=['GET'])\n",
        "def get_item(item_id):\n",
        "    item = next((item for item in items if item[\"id\"] == item_id), None)\n",
        "    if item:\n",
        "        return jsonify({\"item\": item})\n",
        "    return jsonify({\"message\": \"Item not found\"}), 404\n",
        "\n",
        "# API Endpoint to create a new item\n",
        "@app.route('/items', methods=['POST'])\n",
        "def create_item():\n",
        "    data = request.get_json()\n",
        "    if \"name\" in data:\n",
        "        new_item = {\"id\": len(items) + 1, \"name\": data[\"name\"]}\n",
        "        items.append(new_item)\n",
        "        return jsonify({\"message\": \"Item created successfully\", \"item\": new_item}), 201\n",
        "    return jsonify({\"message\": \"Invalid request data\"}), 400\n",
        "\n",
        "# API Endpoint to update an existing item by ID\n",
        "@app.route('/items/<int:item_id>', methods=['PUT'])\n",
        "def update_item(item_id):\n",
        "    data = request.get_json()\n",
        "    item = next((item for item in items if item[\"id\"] == item_id), None)\n",
        "    if item and \"name\" in data:\n",
        "        item[\"name\"] = data[\"name\"]\n",
        "        return jsonify({\"message\": \"Item updated successfully\", \"item\": item})\n",
        "    return jsonify({\"message\": \"Item not found or invalid request data\"}), 404\n",
        "\n",
        "# API Endpoint to delete an item by ID\n",
        "@app.route('/items/<int:item_id>', methods=['DELETE'])\n",
        "def delete_item(item_id):\n",
        "    global items\n",
        "    initial_length = len(items)\n",
        "    items = [item for item in items if item[\"id\"] != item_id]\n",
        "    if len(items) < initial_length:\n",
        "        return jsonify({\"message\": \"Item deleted successfully\"}), 200\n",
        "    return jsonify({\"message\": \"Item not found\"}), 404\n",
        "\n",
        "if __name__ == '__main__':\n",
        "    app.run(debug=True)\n",
        "\n"
      ],
      "metadata": {
        "id": "Gjm3T1pVBrge"
      },
      "execution_count": null,
      "outputs": []
    },
    {
      "cell_type": "code",
      "source": [
        "curl http://127.0.0.1:5000/items\n"
      ],
      "metadata": {
        "id": "HbsmlrQWCm7L"
      },
      "execution_count": null,
      "outputs": []
    }
  ]
}