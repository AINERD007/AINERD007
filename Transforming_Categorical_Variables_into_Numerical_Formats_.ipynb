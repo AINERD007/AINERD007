{
  "nbformat": 4,
  "nbformat_minor": 0,
  "metadata": {
    "colab": {
      "provenance": [],
      "toc_visible": true,
      "authorship_tag": "ABX9TyMNJ+L4LtdDSMVPQtlanbNF",
      "include_colab_link": true
    },
    "kernelspec": {
      "name": "python3",
      "display_name": "Python 3"
    },
    "language_info": {
      "name": "python"
    }
  },
  "cells": [
    {
      "cell_type": "markdown",
      "metadata": {
        "id": "view-in-github",
        "colab_type": "text"
      },
      "source": [
        "<a href=\"https://colab.research.google.com/github/AINERD007/AINERD007/blob/main/Transforming_Categorical_Variables_into_Numerical_Formats_.ipynb\" target=\"_parent\"><img src=\"https://colab.research.google.com/assets/colab-badge.svg\" alt=\"Open In Colab\"/></a>"
      ]
    },
    {
      "cell_type": "code",
      "execution_count": 1,
      "metadata": {
        "colab": {
          "base_uri": "https://localhost:8080/"
        },
        "id": "ShxkoWbOfADC",
        "outputId": "ae6f2228-0a28-4b1a-cd42-e4a4e5f5e6d8"
      },
      "outputs": [
        {
          "output_type": "stream",
          "name": "stdout",
          "text": [
            "       City  City_encoded\n",
            "0  New York             1\n",
            "1    London             0\n",
            "2     Tokyo             2\n",
            "3  New York             1\n",
            "4    London             0\n"
          ]
        }
      ],
      "source": [
        "import pandas as pd\n",
        "from sklearn.preprocessing import LabelEncoder\n",
        "\n",
        "# Sample data\n",
        "data = {'City': ['New York', 'London', 'Tokyo', 'New York', 'London']}\n",
        "df = pd.DataFrame(data)\n",
        "\n",
        "# Using Label Encoding\n",
        "label_encoder = LabelEncoder()\n",
        "df['City_encoded'] = label_encoder.fit_transform(df['City'])\n",
        "\n",
        "print(df)\n"
      ]
    },
    {
      "cell_type": "markdown",
      "source": [
        "**One-Hot Encoding:**\n",
        "\n",
        "One-Hot Encoding creates binary columns for each category. Using the same \"City\" example:"
      ],
      "metadata": {
        "id": "DGHb3c0dfeBe"
      }
    },
    {
      "cell_type": "code",
      "source": [
        "# Using One-Hot Encoding\n",
        "df_encoded = pd.get_dummies(df, columns=['City'], prefix=['City'])\n",
        "\n",
        "print(df_encoded)\n"
      ],
      "metadata": {
        "colab": {
          "base_uri": "https://localhost:8080/"
        },
        "id": "9TPjJHtnfHke",
        "outputId": "a9624635-b30a-4a9a-ed51-4b3750719bb3"
      },
      "execution_count": 2,
      "outputs": [
        {
          "output_type": "stream",
          "name": "stdout",
          "text": [
            "   City_encoded  City_London  City_New York  City_Tokyo\n",
            "0             1            0              1           0\n",
            "1             0            1              0           0\n",
            "2             2            0              0           1\n",
            "3             1            0              1           0\n",
            "4             0            1              0           0\n"
          ]
        }
      ]
    },
    {
      "cell_type": "markdown",
      "source": [
        "**Normalizing Data:**\n",
        "Example:\n",
        "Normalization scales features to a standard range (commonly 0 to 1) to ensure consistency in the analysis, especially when features have different units or scales."
      ],
      "metadata": {
        "id": "XZdKq4Fuf1PM"
      }
    },
    {
      "cell_type": "code",
      "source": [
        "from sklearn.preprocessing import MinMaxScaler\n",
        "\n",
        "# Sample data with a feature 'Age'\n",
        "data = {'Age': [25, 30, 35, 40, 45]}\n",
        "df = pd.DataFrame(data)\n",
        "\n",
        "# Using Min-Max Normalization\n",
        "scaler = MinMaxScaler()\n",
        "df['Age_normalized'] = scaler.fit_transform(df[['Age']])\n",
        "\n",
        "print(df)\n"
      ],
      "metadata": {
        "colab": {
          "base_uri": "https://localhost:8080/"
        },
        "id": "0S5Hm2Klf3FO",
        "outputId": "e8ed73b9-7ee8-4962-d039-bc372be741a4"
      },
      "execution_count": 3,
      "outputs": [
        {
          "output_type": "stream",
          "name": "stdout",
          "text": [
            "   Age  Age_normalized\n",
            "0   25            0.00\n",
            "1   30            0.25\n",
            "2   35            0.50\n",
            "3   40            0.75\n",
            "4   45            1.00\n"
          ]
        }
      ]
    }
  ]
}