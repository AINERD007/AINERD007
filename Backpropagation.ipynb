{
  "nbformat": 4,
  "nbformat_minor": 0,
  "metadata": {
    "colab": {
      "provenance": [],
      "authorship_tag": "ABX9TyNoheES55wuBPhq1wgRA/On",
      "include_colab_link": true
    },
    "kernelspec": {
      "name": "python3",
      "display_name": "Python 3"
    },
    "language_info": {
      "name": "python"
    }
  },
  "cells": [
    {
      "cell_type": "markdown",
      "metadata": {
        "id": "view-in-github",
        "colab_type": "text"
      },
      "source": [
        "<a href=\"https://colab.research.google.com/github/AINERD007/AINERD007/blob/main/Backpropagation.ipynb\" target=\"_parent\"><img src=\"https://colab.research.google.com/assets/colab-badge.svg\" alt=\"Open In Colab\"/></a>"
      ]
    },
    {
      "cell_type": "code",
      "execution_count": null,
      "metadata": {
        "id": "cFplSAanU1Pp"
      },
      "outputs": [],
      "source": [
        "import numpy as np\n"
      ]
    },
    {
      "cell_type": "code",
      "source": [
        "def sigmoid(x):\n",
        "    return 1 / (1 + np.exp(-x))\n",
        "\n",
        "def sigmoid_derivative(x):\n",
        "    return x * (1 - x)\n"
      ],
      "metadata": {
        "id": "KjPpeH4KU_lo"
      },
      "execution_count": null,
      "outputs": []
    },
    {
      "cell_type": "code",
      "source": [
        "class NeuralNetwork:\n",
        "    def __init__(self):\n",
        "        # Initialize weights with random values\n",
        "        self.input_size = 2\n",
        "        self.hidden_size = 2\n",
        "        self.output_size = 1\n",
        "        self.hidden_weights = np.random.rand(self.input_size, self.hidden_size)\n",
        "        self.output_weights = np.random.rand(self.hidden_size, self.output_size)\n"
      ],
      "metadata": {
        "id": "9bRYQoonVD0o"
      },
      "execution_count": null,
      "outputs": []
    },
    {
      "cell_type": "code",
      "source": [
        "def forward_propagation(self, X):\n",
        "    # Calculate hidden layer output\n",
        "    self.hidden_layer_output = sigmoid(np.dot(X, self.hidden_weights))\n",
        "\n",
        "    # Calculate output layer output\n",
        "    self.output_layer_output = sigmoid(np.dot(self.hidden_layer_output, self.output_weights))\n",
        "\n",
        "    return self.output_layer_output\n"
      ],
      "metadata": {
        "id": "LR6FXMrCVIXN"
      },
      "execution_count": null,
      "outputs": []
    },
    {
      "cell_type": "code",
      "source": [
        "def backpropagation(self, X, y, output):\n",
        "    # Calculate the error\n",
        "    error = y - output\n",
        "\n",
        "    # Calculate the derivative of the output layer output\n",
        "    output_delta = error * sigmoid_derivative(output)\n",
        "\n",
        "    # Calculate the error for the hidden layer\n",
        "    hidden_error = output_delta.dot(self.output_weights.T)\n",
        "\n",
        "    # Calculate the derivative of the hidden layer output\n",
        "    hidden_delta = hidden_error * sigmoid_derivative(self.hidden_layer_output)\n",
        "\n",
        "    # Update the weights\n",
        "    self.output_weights += self.hidden_layer_output.T.dot(output_delta)\n",
        "    self.hidden_weights += X.T.dot(hidden_delta)\n"
      ],
      "metadata": {
        "id": "RniMSf9dVNnH"
      },
      "execution_count": null,
      "outputs": []
    },
    {
      "cell_type": "code",
      "source": [
        "def train(self, X, y, epochs):\n",
        "    for epoch in range(epochs):\n",
        "        output = self.forward_propagation(X)\n",
        "        self.backpropagation(X, y, output)\n"
      ],
      "metadata": {
        "id": "DcYGTa2iVQw9"
      },
      "execution_count": null,
      "outputs": []
    },
    {
      "cell_type": "code",
      "source": [
        "def predict(self, X):\n",
        "    return self.forward_propagation(X)\n"
      ],
      "metadata": {
        "id": "IW99n70hVVfu"
      },
      "execution_count": null,
      "outputs": []
    },
    {
      "cell_type": "code",
      "source": [
        "X = np.array([[0, 0], [0, 1], [1, 0], [1, 1]])\n",
        "y = np.array([[0], [1], [1], [0]])\n",
        "\n"
      ],
      "metadata": {
        "id": "XGMm7iPOVZMG"
      },
      "execution_count": null,
      "outputs": []
    },
    {
      "cell_type": "code",
      "source": [
        "nn = NeuralNetwork()\n",
        "nn.train(X, y, epochs=10000)\n",
        "print(\"Predictions:\")\n",
        "print(nn.predict(X))\n"
      ],
      "metadata": {
        "id": "vFFutVaNVnTN"
      },
      "execution_count": null,
      "outputs": []
    }
  ]
}