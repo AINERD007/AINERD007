{
  "nbformat": 4,
  "nbformat_minor": 0,
  "metadata": {
    "colab": {
      "provenance": [],
      "authorship_tag": "ABX9TyNNo4MwgzTzG5HVRJoZbMRr",
      "include_colab_link": true
    },
    "kernelspec": {
      "name": "python3",
      "display_name": "Python 3"
    },
    "language_info": {
      "name": "python"
    }
  },
  "cells": [
    {
      "cell_type": "markdown",
      "metadata": {
        "id": "view-in-github",
        "colab_type": "text"
      },
      "source": [
        "<a href=\"https://colab.research.google.com/github/AINERD007/AINERD007/blob/main/Creating_a_social_media_app.ipynb\" target=\"_parent\"><img src=\"https://colab.research.google.com/assets/colab-badge.svg\" alt=\"Open In Colab\"/></a>"
      ]
    },
    {
      "cell_type": "markdown",
      "source": [
        "**Creating a social media app**"
      ],
      "metadata": {
        "id": "rAk20sO74vES"
      }
    },
    {
      "cell_type": "code",
      "execution_count": null,
      "metadata": {
        "id": "jvWN4Xx64uEa"
      },
      "outputs": [],
      "source": [
        "from flask import Flask, render_template, request, redirect, url_for\n",
        "import os\n",
        "import datetime\n",
        "\n",
        "app = Flask(__name__)\n",
        "\n",
        "# Define the location and name of the user database file\n",
        "user_db_file = \"users.db\"\n",
        "\n",
        "# Home page route\n",
        "@app.route('/')\n",
        "def home():\n",
        "    return render_template('home.html')\n",
        "\n",
        "# User registration route\n",
        "@app.route('/register', methods=['GET', 'POST'])\n",
        "def register():\n",
        "    if request.method == 'POST':\n",
        "        # Get the form data from the request\n",
        "        username = request.form['username']\n",
        "        email = request.form['email']\n",
        "        password = request.form['password']\n",
        "        # Open the user database file and add the user\n",
        "        with open(user_db_file, 'a') as f:\n",
        "            f.write(f\"{username},{email},{password}\\n\")\n",
        "        return redirect(url_for('home'))\n",
        "    else:\n",
        "        return render_template('register.html')\n",
        "\n",
        "# User login route\n",
        "@app.route('/login', methods=['GET', 'POST'])\n",
        "def login():\n",
        "    if request.method == 'POST':\n",
        "        # Get the form data from the request\n",
        "        username = request.form['username']\n",
        "        password = request.form['password']\n",
        "        # Check if the user exists in the user database file\n",
        "        with open(user_db_file, 'r') as f:\n",
        "            users = f.read().split('\\n')\n",
        "        for user in users:\n",
        "            if user:\n",
        "                user_data = user.split(',')\n",
        "                if user_data[0] == username and user_data[2] == password:\n",
        "                    return redirect(url_for('profile', username=username))\n",
        "        # If the user doesn't exist or the password is incorrect, show an error message\n",
        "        return render_template('login.html', error=True)\n",
        "    else:\n",
        "        return render_template('login.html', error=False)\n",
        "\n",
        "# User profile route\n",
        "@app.route('/<username>/profile')\n",
        "def profile(username):\n",
        "    return render_template('profile.html', username=username)\n",
        "\n",
        "if __name__ == '__main__':\n",
        "    # Set the secret key for session management\n",
        "    app.secret_key = os.urandom(24)\n",
        "    app.run(debug=True)\n"
      ]
    },
    {
      "cell_type": "code",
      "source": [
        "from flask import Flask, render_template, request, redirect, url_for\n",
        "import os\n",
        "import datetime\n",
        "\n",
        "app = Flask(__name__)"
      ],
      "metadata": {
        "id": "VFcLpiWP6RmE"
      },
      "execution_count": 1,
      "outputs": []
    },
    {
      "cell_type": "code",
      "source": [
        "# Define the location and name of the user database file\n",
        "user_db_file = \"users.db\""
      ],
      "metadata": {
        "id": "wO991e506YVv"
      },
      "execution_count": 2,
      "outputs": []
    },
    {
      "cell_type": "code",
      "source": [
        "\n",
        "# Home page route\n",
        "@app.route('/')\n",
        "def home():\n",
        "    return render_template('home.html')"
      ],
      "metadata": {
        "id": "3oyrxHII6Z-n"
      },
      "execution_count": 3,
      "outputs": []
    },
    {
      "cell_type": "code",
      "source": [
        "# User registration route\n",
        "@app.route('/register', methods=['GET', 'POST'])\n",
        "def register():\n",
        "    if request.method == 'POST':\n",
        "        # Get the form data from the request\n",
        "        username = request.form['username']\n",
        "        email = request.form['email']\n",
        "        password = request.form['password']\n",
        "        # Open the user database file and add the user\n",
        "        with open(user_db_file, 'a') as f:\n",
        "            f.write(f\"{username},{email},{password}\\n\")\n",
        "        return redirect(url_for('home'))\n",
        "    else:\n",
        "        return render_template('register.html')"
      ],
      "metadata": {
        "id": "YFlPww1w6cbI"
      },
      "execution_count": 4,
      "outputs": []
    },
    {
      "cell_type": "code",
      "source": [
        "# User login route\n",
        "@app.route('/login', methods=['GET', 'POST'])\n",
        "def login():\n",
        "    if request.method == 'POST':\n",
        "        # Get the form data from the request\n",
        "        username = request.form['username']\n",
        "        password = request.form['password']\n",
        "        # Check if the user exists in the user database file\n",
        "        with open(user_db_file, 'r') as f:\n",
        "            users = f.read().split('\\n')\n",
        "        for user in users:\n",
        "            if user:\n",
        "                user_data = user.split(',')\n",
        "                if user_data[0] == username and user_data[2] == password:\n",
        "                    return redirect(url_for('profile', username=username))\n",
        "        # If the user doesn't exist or the password is incorrect, show an error message\n",
        "        return render_template('login.html', error=True)\n",
        "    else:\n",
        "        return render_template('login.html', error=False)"
      ],
      "metadata": {
        "id": "ikYxeta26fFh"
      },
      "execution_count": 5,
      "outputs": []
    },
    {
      "cell_type": "code",
      "source": [
        "# User profile route\n",
        "@app.route('/<username>/profile')\n",
        "def profile(username):\n",
        "    return render_template('profile.html', username=username)\n",
        "\n",
        "if __name__ == '__main__':\n",
        "    # Set the secret key for session management\n",
        "    app.secret_key = os.urandom(24)\n",
        "    app.run(debug=True)"
      ],
      "metadata": {
        "colab": {
          "base_uri": "https://localhost:8080/"
        },
        "id": "Mo3knvXd6kT5",
        "outputId": "5e4839c6-64a2-4de6-9930-aef4a38d3d7f"
      },
      "execution_count": 6,
      "outputs": [
        {
          "output_type": "stream",
          "name": "stdout",
          "text": [
            " * Serving Flask app '__main__'\n",
            " * Debug mode: on\n"
          ]
        },
        {
          "output_type": "stream",
          "name": "stderr",
          "text": [
            "INFO:werkzeug:\u001b[31m\u001b[1mWARNING: This is a development server. Do not use it in a production deployment. Use a production WSGI server instead.\u001b[0m\n",
            " * Running on http://127.0.0.1:5000\n",
            "INFO:werkzeug:\u001b[33mPress CTRL+C to quit\u001b[0m\n",
            "INFO:werkzeug: * Restarting with stat\n"
          ]
        }
      ]
    }
  ]
}