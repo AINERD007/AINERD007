{
  "nbformat": 4,
  "nbformat_minor": 0,
  "metadata": {
    "colab": {
      "provenance": [],
      "authorship_tag": "ABX9TyORNaYY0GtOKO/rBFIvFPjo",
      "include_colab_link": true
    },
    "kernelspec": {
      "name": "python3",
      "display_name": "Python 3"
    },
    "language_info": {
      "name": "python"
    }
  },
  "cells": [
    {
      "cell_type": "markdown",
      "metadata": {
        "id": "view-in-github",
        "colab_type": "text"
      },
      "source": [
        "<a href=\"https://colab.research.google.com/github/AINERD007/AINERD007/blob/main/Supervised_learning_using_simple_regression_modelipynb.ipynb\" target=\"_parent\"><img src=\"https://colab.research.google.com/assets/colab-badge.svg\" alt=\"Open In Colab\"/></a>"
      ]
    },
    {
      "cell_type": "code",
      "execution_count": null,
      "metadata": {
        "id": "DNrsbLR3EPDN"
      },
      "outputs": [],
      "source": [
        "import numpy as np\n",
        "import matplotlib.pyplot as plt\n",
        "from sklearn.model_selection import train_test_split\n",
        "from sklearn.linear_model import LinearRegression\n",
        "from sklearn.metrics import mean_squared_error, r2_score\n",
        "\n",
        "# Simulated data\n",
        "X = np.arange(1, 11).reshape(-1, 1)  # Independent variable\n",
        "y = np.array([3, 4, 2, 6, 8, 7, 10, 12, 11, 13])  # Dependent variable\n",
        "\n",
        "# Split the data into training and testing sets\n",
        "X_train, X_test, y_train, y_test = train_test_split(X, y, test_size=0.2, random_state=42)\n",
        "\n",
        "# Create and train the linear regression model\n",
        "model = LinearRegression()\n",
        "model.fit(X_train, y_train)\n",
        "\n",
        "# Make predictions on the test set\n",
        "y_pred = model.predict(X_test)\n",
        "\n",
        "# Calculate mean squared error and R-squared for model evaluation\n",
        "mse = mean_squared_error(y_test, y_pred)\n",
        "r2 = r2_score(y_test, y_pred)\n",
        "\n",
        "# Print the model's coefficients and evaluation metrics\n",
        "print(\"Coefficients:\", model.coef_)\n",
        "print(\"Intercept:\", model.intercept_)\n",
        "print(\"Mean Squared Error:\", mse)\n",
        "print(\"R-squared:\", r2)\n",
        "\n",
        "# Visualize the data and the linear regression line\n",
        "plt.scatter(X, y, color='blue', label='Data points')\n",
        "plt.plot(X_test, y_pred, color='red', linewidth=2, label='Linear Regression')\n",
        "plt.xlabel('X')\n",
        "plt.ylabel('y')\n",
        "plt.title('Linear Regression Example')\n",
        "plt.legend()\n",
        "plt.show()\n"
      ]
    },
    {
      "cell_type": "markdown",
      "source": [
        "In this example, we have some simulated data X and y, where X is the independent variable and y is the dependent variable. We split the data into training and testing sets using train_test_split from Scikit-learn. Then, we create a linear regression model using LinearRegression, train it on the training data, and make predictions on the test data. We calculate the mean squared error and R-squared to evaluate the model's performance. Finally, we visualize the data and the linear regression line using matplotlib.\n",
        "\n"
      ],
      "metadata": {
        "id": "9N8h1ViwEZsK"
      }
    },
    {
      "cell_type": "markdown",
      "source": [],
      "metadata": {
        "id": "fpzVoD4REWb4"
      }
    }
  ]
}