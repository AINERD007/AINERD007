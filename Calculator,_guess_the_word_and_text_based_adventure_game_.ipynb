{
  "nbformat": 4,
  "nbformat_minor": 0,
  "metadata": {
    "colab": {
      "provenance": [],
      "authorship_tag": "ABX9TyN0qRq3ZKN1YOfDIZClx6Lj",
      "include_colab_link": true
    },
    "kernelspec": {
      "name": "python3",
      "display_name": "Python 3"
    },
    "language_info": {
      "name": "python"
    }
  },
  "cells": [
    {
      "cell_type": "markdown",
      "metadata": {
        "id": "view-in-github",
        "colab_type": "text"
      },
      "source": [
        "<a href=\"https://colab.research.google.com/github/AINERD007/AINERD007/blob/main/Calculator%2C_guess_the_word_and_text_based_adventure_game_.ipynb\" target=\"_parent\"><img src=\"https://colab.research.google.com/assets/colab-badge.svg\" alt=\"Open In Colab\"/></a>"
      ]
    },
    {
      "cell_type": "code",
      "source": [
        "def add(x, y):\n",
        "    return x + y"
      ],
      "metadata": {
        "id": "sPoPdDHaHfrj"
      },
      "execution_count": 1,
      "outputs": []
    },
    {
      "cell_type": "code",
      "source": [
        "def subtract(x, y):\n",
        "    return x - y"
      ],
      "metadata": {
        "id": "AOX2oc7VHj-L"
      },
      "execution_count": 2,
      "outputs": []
    },
    {
      "cell_type": "code",
      "source": [
        "def multiply(x, y):\n",
        "    return x * y"
      ],
      "metadata": {
        "id": "BbNhyxxbHlYy"
      },
      "execution_count": 3,
      "outputs": []
    },
    {
      "cell_type": "code",
      "source": [
        "def divide(x, y):\n",
        "    if y == 0:\n",
        "        return \"Cannot divide by zero\"\n",
        "    return x / y"
      ],
      "metadata": {
        "id": "3wUpN7hOHoD8"
      },
      "execution_count": 4,
      "outputs": []
    },
    {
      "cell_type": "code",
      "source": [
        "def calculator():\n",
        "    print(\"Select operation:\")\n",
        "    print(\"1. Addition\")\n",
        "    print(\"2. Subtraction\")\n",
        "    print(\"3. Multiplication\")\n",
        "    print(\"4. Division\")\n",
        "\n",
        "    choice = input(\"Enter choice (1/2/3/4): \")\n",
        "\n",
        "    num1 = float(input(\"Enter first number: \"))\n",
        "    num2 = float(input(\"Enter second number: \"))"
      ],
      "metadata": {
        "id": "H0j5Oxa5HsWL"
      },
      "execution_count": 5,
      "outputs": []
    },
    {
      "cell_type": "code",
      "source": [
        "def calculator():\n",
        "    print(\"Select operation:\")\n",
        "    print(\"1. Addition\")\n",
        "    print(\"2. Subtraction\")\n",
        "    print(\"3. Multiplication\")\n",
        "    print(\"4. Division\")\n",
        "\n",
        "    choice = input(\"Enter choice (1/2/3/4): \")\n",
        "\n",
        "    num1 = float(input(\"Enter first number: \"))\n",
        "    num2 = float(input(\"Enter second number: \"))\n",
        "\n",
        "    if choice == '1':\n",
        "        print(\"Result:\", add(num1, num2))\n",
        "    elif choice == '2':\n",
        "        print(\"Result:\", subtract(num1, num2))\n",
        "    elif choice == '3':\n",
        "        print(\"Result:\", multiply(num1, num2))\n",
        "    elif choice == '4':\n",
        "        print(\"Result:\", divide(num1, num2))\n",
        "    else:\n",
        "        print(\"Invalid input\")"
      ],
      "metadata": {
        "id": "YD2WUuH9H0zx"
      },
      "execution_count": 8,
      "outputs": []
    },
    {
      "cell_type": "code",
      "source": [
        "calculator()"
      ],
      "metadata": {
        "colab": {
          "base_uri": "https://localhost:8080/"
        },
        "id": "r3f3_5_XIAcq",
        "outputId": "3570fd91-4db0-4cc3-86a2-8138468ac218"
      },
      "execution_count": 17,
      "outputs": [
        {
          "output_type": "stream",
          "name": "stdout",
          "text": [
            "Select operation:\n",
            "1. Addition\n",
            "2. Subtraction\n",
            "3. Multiplication\n",
            "4. Division\n",
            "Enter choice (1/2/3/4): 3\n",
            "Enter first number: 34\n",
            "Enter second number: 33\n",
            "Result: 1122.0\n"
          ]
        }
      ]
    },
    {
      "cell_type": "markdown",
      "source": [
        "**Guess the number**"
      ],
      "metadata": {
        "id": "MASEmS44JO6n"
      }
    },
    {
      "cell_type": "code",
      "source": [
        "import random"
      ],
      "metadata": {
        "id": "Ch8aryN1JSt5"
      },
      "execution_count": 18,
      "outputs": []
    },
    {
      "cell_type": "code",
      "source": [
        "\n",
        "def guess_the_number():\n",
        "    lower_limit = 1\n",
        "    upper_limit = 100\n",
        "    target_number = random.randint(lower_limit, upper_limit)\n",
        "    max_attempts = 7\n",
        "    attempts = 0"
      ],
      "metadata": {
        "id": "g12TALYfJXIQ"
      },
      "execution_count": 19,
      "outputs": []
    },
    {
      "cell_type": "code",
      "source": [
        "import random\n",
        "\n",
        "def guess_the_number():\n",
        "    lower_limit = 1\n",
        "    upper_limit = 100\n",
        "    target_number = random.randint(lower_limit, upper_limit)\n",
        "    max_attempts = 7\n",
        "    attempts = 0\n",
        "\n",
        "    print(\"Welcome to the Guess the Number Game!\")\n",
        "    print(f\"I'm thinking of a number between {lower_limit} and {upper_limit}. Can you guess it?\")\n",
        "\n",
        "    while attempts < max_attempts:\n",
        "        guess = int(input(f\"Attempt {attempts + 1}/{max_attempts}: Enter your guess: \"))\n",
        "\n",
        "        if guess < target_number:\n",
        "            print(\"Higher!\")\n",
        "        elif guess > target_number:\n",
        "            print(\"Lower!\")\n",
        "        else:\n",
        "            print(f\"Congratulations! You guessed the number {target_number} in {attempts + 1} attempts.\")\n",
        "            break\n",
        "\n",
        "        attempts += 1\n",
        "\n",
        "    if attempts == max_attempts:\n",
        "        print(f\"Sorry, you've used all {max_attempts} attempts. The correct number was {target_number}.\")\n",
        "\n",
        "guess_the_number()\n",
        "\n",
        "\n"
      ],
      "metadata": {
        "colab": {
          "base_uri": "https://localhost:8080/"
        },
        "id": "Q2NsE-9zJfDi",
        "outputId": "832df9c2-8055-4762-9e17-43f95f1ab58a"
      },
      "execution_count": 20,
      "outputs": [
        {
          "output_type": "stream",
          "name": "stdout",
          "text": [
            "Welcome to the Guess the Number Game!\n",
            "I'm thinking of a number between 1 and 100. Can you guess it?\n",
            "Attempt 1/7: Enter your guess: 33\n",
            "Higher!\n",
            "Attempt 2/7: Enter your guess: 61\n",
            "Higher!\n",
            "Attempt 3/7: Enter your guess: 45\n",
            "Higher!\n",
            "Attempt 4/7: Enter your guess: 80\n",
            "Lower!\n",
            "Attempt 5/7: Enter your guess: 33\n",
            "Higher!\n",
            "Attempt 6/7: Enter your guess: 22\n",
            "Higher!\n",
            "Attempt 7/7: Enter your guess: 15\n",
            "Higher!\n",
            "Sorry, you've used all 7 attempts. The correct number was 78.\n"
          ]
        }
      ]
    },
    {
      "cell_type": "markdown",
      "source": [
        "** text-based adventure game**"
      ],
      "metadata": {
        "id": "hdFzruuTLiiv"
      }
    },
    {
      "cell_type": "markdown",
      "source": [
        "This python code present a storyline with different scenarios, choices, and challenges.\n",
        "Allow the player to make decisions by selecting options presented in the game.\n",
        "Keep track of the player's progress and display the results of their choices.\n",
        "Offer multiple possible endings based on the player's decisions"
      ],
      "metadata": {
        "id": "p_6B5MUAMYeZ"
      }
    },
    {
      "cell_type": "code",
      "source": [
        "def start_game():\n",
        "    print(\"Welcome to the Text-Based Adventure Game!\")\n",
        "    print(\"You find yourself in a mysterious forest. You must navigate through the forest and make decisions to survive.\")\n",
        "\n",
        "    print(\"\\nChapter 1: The Forest\")\n",
        "    print(\"You come across a fork in the path. Which way will you go?\")\n",
        "    print(\"1. Take the left path.\")\n",
        "    print(\"2. Take the right path.\")\n",
        "\n",
        "    choice = input(\"Enter your choice (1/2): \")\n",
        "\n",
        "    if choice == '1':\n",
        "        print(\"You follow the left path and discover a hidden treasure chest.\")\n",
        "        print(\"Congratulations! You've found a valuable treasure!\")\n",
        "    elif choice == '2':\n",
        "        print(\"You take the right path and encounter a dangerous bear.\")\n",
        "        print(\"In a thrilling chase, you manage to escape from the bear.\")\n",
        "    else:\n",
        "        print(\"Invalid choice. The forest seems to confuse you, and you're lost.\")\n",
        "\n",
        "    print(\"\\nEnd of Chapter 1\")\n",
        "\n",
        "start_game()\n"
      ],
      "metadata": {
        "colab": {
          "base_uri": "https://localhost:8080/"
        },
        "id": "mBYNe6M-MdVy",
        "outputId": "9908571c-51d7-4594-8464-9becfaeb9180"
      },
      "execution_count": 21,
      "outputs": [
        {
          "output_type": "stream",
          "name": "stdout",
          "text": [
            "Welcome to the Text-Based Adventure Game!\n",
            "You find yourself in a mysterious forest. You must navigate through the forest and make decisions to survive.\n",
            "\n",
            "Chapter 1: The Forest\n",
            "You come across a fork in the path. Which way will you go?\n",
            "1. Take the left path.\n",
            "2. Take the right path.\n",
            "Enter your choice (1/2): 1\n",
            "You follow the left path and discover a hidden treasure chest.\n",
            "Congratulations! You've found a valuable treasure!\n",
            "\n",
            "End of Chapter 1\n"
          ]
        }
      ]
    }
  ]
}