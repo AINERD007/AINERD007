{
  "nbformat": 4,
  "nbformat_minor": 0,
  "metadata": {
    "colab": {
      "provenance": [],
      "authorship_tag": "ABX9TyP86jtWWhK66zOWoZyYKgF5",
      "include_colab_link": true
    },
    "kernelspec": {
      "name": "python3",
      "display_name": "Python 3"
    },
    "language_info": {
      "name": "python"
    }
  },
  "cells": [
    {
      "cell_type": "markdown",
      "metadata": {
        "id": "view-in-github",
        "colab_type": "text"
      },
      "source": [
        "<a href=\"https://colab.research.google.com/github/AINERD007/AINERD007/blob/main/Titanic_Survival_Prediction.ipynb\" target=\"_parent\"><img src=\"https://colab.research.google.com/assets/colab-badge.svg\" alt=\"Open In Colab\"/></a>"
      ]
    },
    {
      "cell_type": "markdown",
      "source": [
        "Python code for a simple Titanic Survival Prediction project using the popular Titanic dataset. We'll use the pandas library for data manipulation, scikit-learn for building the prediction model, and matplotlib for data visualization."
      ],
      "metadata": {
        "id": "vycsL937yEEV"
      }
    },
    {
      "cell_type": "code",
      "source": [
        "import pandas as pd\n",
        "import numpy as np\n",
        "import matplotlib.pyplot as plt\n",
        "from sklearn.model_selection import train_test_split\n",
        "from sklearn.ensemble import RandomForestClassifier\n",
        "from sklearn.metrics import accuracy_score, confusion_matrix\n",
        "\n",
        "# Load the Titanic dataset\n",
        "titanic_data = pd.read_csv('titanic.csv')\n",
        "\n",
        "# Data preprocessing\n",
        "# Drop irrelevant columns and handle missing values\n",
        "titanic_data.drop(['PassengerId', 'Name', 'Ticket', 'Cabin'], axis=1, inplace=True)\n",
        "titanic_data['Age'].fillna(titanic_data['Age'].median(), inplace=True)\n",
        "titanic_data['Embarked'].fillna(titanic_data['Embarked'].mode()[0], inplace=True)\n",
        "\n",
        "# Convert categorical variables to numerical using one-hot encoding\n",
        "titanic_data = pd.get_dummies(titanic_data, columns=['Sex', 'Embarked'], drop_first=True)\n",
        "\n",
        "# Define features and target variable\n",
        "X = titanic_data.drop('Survived', axis=1)\n",
        "y = titanic_data['Survived']\n",
        "\n",
        "# Split the data into training and testing sets\n",
        "X_train, X_test, y_train, y_test = train_test_split(X, y, test_size=0.2, random_state=42)\n",
        "\n",
        "# Build a Random Forest Classifier model\n",
        "model = RandomForestClassifier(n_estimators=100, random_state=42)\n",
        "model.fit(X_train, y_train)\n",
        "\n",
        "# Make predictions on the test set\n",
        "y_pred = model.predict(X_test)\n",
        "\n",
        "# Evaluate the model\n",
        "accuracy = accuracy_score(y_test, y_pred)\n",
        "conf_matrix = confusion_matrix(y_test, y_pred)\n",
        "\n",
        "print(\"Accuracy:\", accuracy)\n",
        "print(\"Confusion Matrix:\")\n",
        "print(conf_matrix)\n",
        "\n",
        "# Visualization: Feature Importance\n",
        "feature_importance = pd.Series(model.feature_importances_, index=X.columns)\n",
        "feature_importance.sort_values(ascending=False, inplace=True)\n",
        "plt.figure(figsize=(8, 6))\n",
        "plt.bar(feature_importance.index, feature_importance.values)\n",
        "plt.xticks(rotation=90)\n",
        "plt.xlabel('Features')\n",
        "plt.ylabel('Feature Importance')\n",
        "plt.title('Feature Importance for Titanic Survival Prediction')\n",
        "plt.show()\n"
      ],
      "metadata": {
        "id": "2zuAlgIByHaX"
      },
      "execution_count": null,
      "outputs": []
    },
    {
      "cell_type": "markdown",
      "source": [
        "In this code, we first load the Titanic dataset and perform data preprocessing. We handle missing values, drop irrelevant columns, and convert categorical variables to numerical using one-hot encoding.\n",
        "\n",
        "Next, we split the data into training and testing sets and build a Random Forest Classifier model using scikit-learn's RandomForestClassifier. We then make predictions on the test set and evaluate the model's accuracy using accuracy_score and the confusion matrix.\n",
        "\n",
        "Finally, we visualize the feature importance using matplotlib to see which features have the most impact on the survival prediction."
      ],
      "metadata": {
        "id": "I6XiuNLp5yQu"
      }
    }
  ]
}