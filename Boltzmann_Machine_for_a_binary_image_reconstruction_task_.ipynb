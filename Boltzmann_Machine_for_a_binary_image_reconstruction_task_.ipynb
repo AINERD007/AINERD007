{
  "nbformat": 4,
  "nbformat_minor": 0,
  "metadata": {
    "colab": {
      "provenance": [],
      "authorship_tag": "ABX9TyNrNfkH+vUttgPFxX3kF7Th",
      "include_colab_link": true
    },
    "kernelspec": {
      "name": "python3",
      "display_name": "Python 3"
    },
    "language_info": {
      "name": "python"
    }
  },
  "cells": [
    {
      "cell_type": "markdown",
      "metadata": {
        "id": "view-in-github",
        "colab_type": "text"
      },
      "source": [
        "<a href=\"https://colab.research.google.com/github/AINERD007/AINERD007/blob/main/Boltzmann_Machine_for_a_binary_image_reconstruction_task_.ipynb\" target=\"_parent\"><img src=\"https://colab.research.google.com/assets/colab-badge.svg\" alt=\"Open In Colab\"/></a>"
      ]
    },
    {
      "cell_type": "markdown",
      "source": [
        "**Boltzmann Machine and train it using the Contrastive Divergence algorithm for a binary image reconstruction task.**"
      ],
      "metadata": {
        "id": "cuSug52MjoHS"
      }
    },
    {
      "cell_type": "code",
      "execution_count": 1,
      "metadata": {
        "colab": {
          "base_uri": "https://localhost:8080/"
        },
        "id": "jitHjTW-ja9r",
        "outputId": "80cbf64c-6b47-4d05-bf5b-e33829632e21"
      },
      "outputs": [
        {
          "output_type": "stream",
          "name": "stdout",
          "text": [
            "Requirement already satisfied: numpy in /usr/local/lib/python3.10/dist-packages (1.22.4)\n"
          ]
        }
      ],
      "source": [
        "pip install numpy\n"
      ]
    },
    {
      "cell_type": "code",
      "source": [
        "import numpy as np\n"
      ],
      "metadata": {
        "id": "rY-zq1ezj5hF"
      },
      "execution_count": 2,
      "outputs": []
    },
    {
      "cell_type": "code",
      "source": [
        "class BoltzmannMachine:\n",
        "    def __init__(self, num_visible, num_hidden):\n",
        "        self.num_visible = num_visible\n",
        "        self.num_hidden = num_hidden\n",
        "        self.weights = np.random.normal(loc=0.0, scale=0.01, size=(num_visible, num_hidden))\n",
        "        self.visible_bias = np.zeros(num_visible)\n",
        "        self.hidden_bias = np.zeros(num_hidden)\n",
        "\n",
        "    def sigmoid(self, x):\n",
        "        return 1 / (1 + np.exp(-x))\n",
        "\n",
        "    def energy(self, visible_state, hidden_state):\n",
        "        return -np.dot(visible_state, self.visible_bias) - np.dot(hidden_state, self.hidden_bias) - np.dot(\n",
        "            np.dot(visible_state, self.weights), hidden_state)\n",
        "\n",
        "    def sample_hidden(self, visible_state):\n",
        "        hidden_probabilities = self.sigmoid(np.dot(visible_state, self.weights) + self.hidden_bias)\n",
        "        return np.random.binomial(1, hidden_probabilities)\n",
        "\n",
        "    def sample_visible(self, hidden_state):\n",
        "        visible_probabilities = self.sigmoid(np.dot(hidden_state, self.weights.T) + self.visible_bias)\n",
        "        return np.random.binomial(1, visible_probabilities)\n",
        "\n",
        "    def gibbs_sampling(self, visible_state, k=1):\n",
        "        for _ in range(k):\n",
        "            hidden_state = self.sample_hidden(visible_state)\n",
        "            visible_state = self.sample_visible(hidden_state)\n",
        "        return visible_state\n",
        "\n",
        "    def train(self, data, epochs=10, learning_rate=0.1, k=1):\n",
        "        num_samples = data.shape[0]\n",
        "        for epoch in range(epochs):\n",
        "            for sample in range(num_samples):\n",
        "                visible_state = data[sample]\n",
        "                hidden_state = self.sample_hidden(visible_state)\n",
        "                reconstructed_visible = self.gibbs_sampling(visible_state, k)\n",
        "                self.weights += learning_rate * (\n",
        "                        np.outer(visible_state, hidden_state) - np.outer(reconstructed_visible, hidden_state))\n",
        "                self.visible_bias += learning_rate * (visible_state - reconstructed_visible)\n",
        "                self.hidden_bias += learning_rate * (hidden_state - self.sample_hidden(reconstructed_visible))\n",
        "\n",
        "    def reconstruct(self, visible_state, steps=100):\n",
        "        for _ in range(steps):\n",
        "            hidden_state = self.sample_hidden(visible_state)\n",
        "            visible_state = self.sample_visible(hidden_state)\n",
        "        return visible_state\n"
      ],
      "metadata": {
        "id": "IuMMGBYXk_vN"
      },
      "execution_count": 3,
      "outputs": []
    },
    {
      "cell_type": "code",
      "source": [
        "# Sample Data\n",
        "data = np.array([[1, 0, 0, 1, 1],\n",
        "                 [1, 0, 1, 1, 0],\n",
        "                 [1, 1, 0, 0, 1],\n",
        "                 [0, 1, 1, 0, 0]])\n",
        "\n",
        "num_visible = data.shape[1]\n",
        "num_hidden = 3\n"
      ],
      "metadata": {
        "id": "tshwKmDclWF8"
      },
      "execution_count": 4,
      "outputs": []
    },
    {
      "cell_type": "code",
      "source": [
        "# Create and Train Boltzmann Machine\n",
        "bm = BoltzmannMachine(num_visible, num_hidden)\n",
        "bm.train(data, epochs=100, learning_rate=0.1, k=1)\n"
      ],
      "metadata": {
        "id": "ml-kiIvflco7"
      },
      "execution_count": 5,
      "outputs": []
    },
    {
      "cell_type": "code",
      "source": [
        "# Reconstruct Images\n",
        "for i in range(len(data)):\n",
        "    original_image = data[i]\n",
        "    reconstructed_image = bm.reconstruct(original_image)\n",
        "    print(f\"Original Image: {original_image}\")\n",
        "    print(f\"Reconstructed Image: {reconstructed_image}\")\n",
        "    print()\n"
      ],
      "metadata": {
        "id": "fyeqPlyylk7u",
        "outputId": "c9ad6967-bcd7-4063-e0ef-0ca42ff08e28",
        "colab": {
          "base_uri": "https://localhost:8080/"
        }
      },
      "execution_count": 6,
      "outputs": [
        {
          "output_type": "stream",
          "name": "stdout",
          "text": [
            "Original Image: [1 0 0 1 1]\n",
            "Reconstructed Image: [1 0 1 1 1]\n",
            "\n",
            "Original Image: [1 0 1 1 0]\n",
            "Reconstructed Image: [0 1 1 0 0]\n",
            "\n",
            "Original Image: [1 1 0 0 1]\n",
            "Reconstructed Image: [0 1 1 0 1]\n",
            "\n",
            "Original Image: [0 1 1 0 0]\n",
            "Reconstructed Image: [1 0 0 1 0]\n",
            "\n"
          ]
        }
      ]
    }
  ]
}