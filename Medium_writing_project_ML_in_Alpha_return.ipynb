{
  "nbformat": 4,
  "nbformat_minor": 0,
  "metadata": {
    "colab": {
      "provenance": [],
      "authorship_tag": "ABX9TyPMIUyrh0SiWDfHIcrQWbMU",
      "include_colab_link": true
    },
    "kernelspec": {
      "name": "python3",
      "display_name": "Python 3"
    },
    "language_info": {
      "name": "python"
    }
  },
  "cells": [
    {
      "cell_type": "markdown",
      "metadata": {
        "id": "view-in-github",
        "colab_type": "text"
      },
      "source": [
        "<a href=\"https://colab.research.google.com/github/AINERD007/AINERD007/blob/main/Medium_writing_project_ML_in_Alpha_return.ipynb\" target=\"_parent\"><img src=\"https://colab.research.google.com/assets/colab-badge.svg\" alt=\"Open In Colab\"/></a>"
      ]
    },
    {
      "cell_type": "code",
      "source": [
        "import pandas as pd\n",
        "import numpy as np\n",
        "from sklearn.model_selection import train_test_split\n",
        "from sklearn.linear_model import LinearRegression\n",
        "from sklearn.metrics import mean_squared_error"
      ],
      "metadata": {
        "id": "-pRv7-K1hlIp"
      },
      "execution_count": 2,
      "outputs": []
    },
    {
      "cell_type": "code",
      "source": [
        "# Load the dataset from a CSV file (replace 'filename.csv' with the actual file name)\n",
        "data = pd.read_csv('filename.csv')"
      ],
      "metadata": {
        "id": "SLUghqIGhuDy"
      },
      "execution_count": null,
      "outputs": []
    },
    {
      "cell_type": "code",
      "source": [
        "# Define the features (technical indicators) and the target variable (stock returns)\n",
        "X = data[['indicator1', 'indicator2', 'indicator3']]\n",
        "y = data['returns']"
      ],
      "metadata": {
        "id": "2tijHf_zhu6J"
      },
      "execution_count": null,
      "outputs": []
    },
    {
      "cell_type": "code",
      "source": [
        "# Split the data into training and testing sets\n",
        "X_train, X_test, y_train, y_test = train_test_split(X, y, test_size=0.2, random_state=42)"
      ],
      "metadata": {
        "id": "i1L4DEOhh3A5"
      },
      "execution_count": null,
      "outputs": []
    },
    {
      "cell_type": "code",
      "source": [
        "# Create and train the linear regression model\n",
        "model = LinearRegression()\n",
        "model.fit(X_train, y_train)"
      ],
      "metadata": {
        "id": "JOm0Y7SDh6M7"
      },
      "execution_count": null,
      "outputs": []
    },
    {
      "cell_type": "code",
      "source": [
        "\n",
        "# Make predictions on the test set\n",
        "y_pred = model.predict(X_test)"
      ],
      "metadata": {
        "id": "Q85S8X8Hh8NS"
      },
      "execution_count": null,
      "outputs": []
    },
    {
      "cell_type": "code",
      "source": [
        "\n",
        "# Calculate the mean squared error as a measure of model performance\n",
        "mse = mean_squared_error(y_test, y_pred)\n",
        "print(f\"Mean Squared Error: {mse}\")\n",
        "\n",
        "# Define a threshold for the alpha strategy\n",
        "threshold = 0.01\n",
        "\n",
        "# Create signals for the alpha strategy based on model predictions\n",
        "signals = np.where(y_pred > threshold, 1, -1)\n",
        "\n",
        "# Calculate daily returns of the strategy\n",
        "daily_returns = signals * y_test\n",
        "\n",
        "# Calculate cumulative returns of the strategy\n",
        "cumulative_returns = (1 + daily_returns).cumprod()\n",
        "\n",
        "# Plot the cumulative returns of the alpha strategy\n",
        "import matplotlib.pyplot as plt\n",
        "plt.plot(cumulative_returns)\n",
        "plt.xlabel('Date')\n",
        "plt.ylabel('Cumulative Returns')\n",
        "plt.title('Alpha Strategy Cumulative Returns')\n",
        "plt.show()"
      ],
      "metadata": {
        "id": "U0_rkQSMh-iS"
      },
      "execution_count": null,
      "outputs": []
    }
  ]
}