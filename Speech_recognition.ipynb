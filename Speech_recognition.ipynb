{
  "nbformat": 4,
  "nbformat_minor": 0,
  "metadata": {
    "colab": {
      "provenance": [],
      "authorship_tag": "ABX9TyNL44GhcO9V80O5JUBwg9Rh",
      "include_colab_link": true
    },
    "kernelspec": {
      "name": "python3",
      "display_name": "Python 3"
    },
    "language_info": {
      "name": "python"
    }
  },
  "cells": [
    {
      "cell_type": "markdown",
      "metadata": {
        "id": "view-in-github",
        "colab_type": "text"
      },
      "source": [
        "<a href=\"https://colab.research.google.com/github/AINERD007/AINERD007/blob/main/Speech_recognition.ipynb\" target=\"_parent\"><img src=\"https://colab.research.google.com/assets/colab-badge.svg\" alt=\"Open In Colab\"/></a>"
      ]
    },
    {
      "cell_type": "markdown",
      "source": [
        "This code will use your computer's microphone to capture audio and then use Google Web Speech API to recognize the speech and print the recognized text.\n",
        "\n",
        "Note: Make sure you have an active internet connection to use the Google Web Speech API for speech recognition. Additionally, you can explore other speech recognition engines supported by the SpeechRecognition library, such as CMU Sphinx, Microsoft Bing Voice Recognition, and others."
      ],
      "metadata": {
        "id": "TdkiIHNr6-0v"
      }
    },
    {
      "cell_type": "code",
      "source": [
        "pip install SpeechRecognition"
      ],
      "metadata": {
        "colab": {
          "base_uri": "https://localhost:8080/"
        },
        "id": "fBD9Edd27A_B",
        "outputId": "5b5a4729-5753-4f3e-8fa9-43d4ecd62d59"
      },
      "execution_count": 1,
      "outputs": [
        {
          "output_type": "stream",
          "name": "stdout",
          "text": [
            "Collecting SpeechRecognition\n",
            "  Downloading SpeechRecognition-3.10.0-py2.py3-none-any.whl (32.8 MB)\n",
            "\u001b[2K     \u001b[90m━━━━━━━━━━━━━━━━━━━━━━━━━━━━━━━━━━━━━━━━\u001b[0m \u001b[32m32.8/32.8 MB\u001b[0m \u001b[31m13.3 MB/s\u001b[0m eta \u001b[36m0:00:00\u001b[0m\n",
            "\u001b[?25hRequirement already satisfied: requests>=2.26.0 in /usr/local/lib/python3.10/dist-packages (from SpeechRecognition) (2.27.1)\n",
            "Requirement already satisfied: urllib3<1.27,>=1.21.1 in /usr/local/lib/python3.10/dist-packages (from requests>=2.26.0->SpeechRecognition) (1.26.16)\n",
            "Requirement already satisfied: certifi>=2017.4.17 in /usr/local/lib/python3.10/dist-packages (from requests>=2.26.0->SpeechRecognition) (2023.5.7)\n",
            "Requirement already satisfied: charset-normalizer~=2.0.0 in /usr/local/lib/python3.10/dist-packages (from requests>=2.26.0->SpeechRecognition) (2.0.12)\n",
            "Requirement already satisfied: idna<4,>=2.5 in /usr/local/lib/python3.10/dist-packages (from requests>=2.26.0->SpeechRecognition) (3.4)\n",
            "Installing collected packages: SpeechRecognition\n",
            "Successfully installed SpeechRecognition-3.10.0\n"
          ]
        }
      ]
    },
    {
      "cell_type": "code",
      "source": [
        "import speech_recognition as sr\n",
        "\n",
        "# Create a speech recognition object\n",
        "recognizer = sr.Recognizer()\n",
        "\n",
        "# Capture audio from the microphone\n",
        "with sr.Microphone() as source:\n",
        "    print(\"Say something...\")\n",
        "    recognizer.adjust_for_ambient_noise(source)  # Adjust for background noise\n",
        "    audio = recognizer.listen(source)\n",
        "\n",
        "# Recognize speech using Google Web Speech API\n",
        "try:\n",
        "    print(\"Recognizing...\")\n",
        "    text = recognizer.recognize_google(audio)\n",
        "    print(\"You said:\", text)\n",
        "except sr.UnknownValueError:\n",
        "    print(\"Oops! Could not understand audio.\")\n",
        "except sr.RequestError as e:\n",
        "    print(f\"Error fetching results from Google Web Speech API; {e}\")\n"
      ],
      "metadata": {
        "id": "CWOIDTKP7GFr"
      },
      "execution_count": null,
      "outputs": []
    },
    {
      "cell_type": "markdown",
      "source": [
        "Creating a fully functional voice-controlled AI app like Alexa:\n",
        "Creating a fully functional voice-controlled AI app like Alexa from scratch is a complex and time-consuming task. However, I can provide you with a basic Python code snippet that uses the SpeechRecognition library and the pyttsx3 library to build a simple voice-based interaction. This code will listen for your command, recognize speech, and respond using text-to-speech capabilities."
      ],
      "metadata": {
        "id": "Kt_puBZP7WW6"
      }
    },
    {
      "cell_type": "code",
      "source": [
        "pip install SpeechRecognition pyttsx3\n"
      ],
      "metadata": {
        "colab": {
          "base_uri": "https://localhost:8080/"
        },
        "id": "Pg3pG8jM7bpD",
        "outputId": "880cb5e0-a721-4aa8-a51c-b75c275028b0"
      },
      "execution_count": 2,
      "outputs": [
        {
          "output_type": "stream",
          "name": "stdout",
          "text": [
            "Requirement already satisfied: SpeechRecognition in /usr/local/lib/python3.10/dist-packages (3.10.0)\n",
            "Collecting pyttsx3\n",
            "  Downloading pyttsx3-2.90-py3-none-any.whl (39 kB)\n",
            "Requirement already satisfied: requests>=2.26.0 in /usr/local/lib/python3.10/dist-packages (from SpeechRecognition) (2.27.1)\n",
            "Requirement already satisfied: urllib3<1.27,>=1.21.1 in /usr/local/lib/python3.10/dist-packages (from requests>=2.26.0->SpeechRecognition) (1.26.16)\n",
            "Requirement already satisfied: certifi>=2017.4.17 in /usr/local/lib/python3.10/dist-packages (from requests>=2.26.0->SpeechRecognition) (2023.5.7)\n",
            "Requirement already satisfied: charset-normalizer~=2.0.0 in /usr/local/lib/python3.10/dist-packages (from requests>=2.26.0->SpeechRecognition) (2.0.12)\n",
            "Requirement already satisfied: idna<4,>=2.5 in /usr/local/lib/python3.10/dist-packages (from requests>=2.26.0->SpeechRecognition) (3.4)\n",
            "Installing collected packages: pyttsx3\n",
            "Successfully installed pyttsx3-2.90\n"
          ]
        }
      ]
    },
    {
      "cell_type": "code",
      "source": [
        "import speech_recognition as sr\n",
        "import pyttsx3\n",
        "\n",
        "def listen_for_command():\n",
        "    recognizer = sr.Recognizer()\n",
        "\n",
        "    with sr.Microphone() as source:\n",
        "        print(\"Listening...\")\n",
        "        recognizer.adjust_for_ambient_noise(source)  # Adjust for background noise\n",
        "        audio = recognizer.listen(source)\n",
        "\n",
        "    try:\n",
        "        print(\"Recognizing...\")\n",
        "        command = recognizer.recognize_google(audio).lower()\n",
        "        print(\"You said:\", command)\n",
        "        return command\n",
        "    except sr.UnknownValueError:\n",
        "        print(\"Oops! Could not understand audio.\")\n",
        "        return \"\"\n",
        "    except sr.RequestError as e:\n",
        "        print(f\"Error fetching results from Google Web Speech API; {e}\")\n",
        "        return \"\"\n",
        "\n",
        "def speak(text):\n",
        "    engine = pyttsx3.init()\n",
        "    engine.say(text)\n",
        "    engine.runAndWait()\n",
        "\n",
        "def main():\n",
        "    speak(\"Hello! I am your voice-controlled AI. How can I assist you?\")\n",
        "\n",
        "    while True:\n",
        "        command = listen_for_command()\n",
        "\n",
        "        if \"hello\" in command:\n",
        "            speak(\"Hello! How can I help you?\")\n",
        "        elif \"what is your name\" in command:\n",
        "            speak(\"I am your voice-controlled AI.\")\n",
        "        elif \"exit\" in command:\n",
        "            speak(\"Goodbye!\")\n",
        "            break\n",
        "        else:\n",
        "            speak(\"Sorry, I didn't understand that. Please try again.\")\n",
        "\n",
        "if __name__ == \"__main__\":\n",
        "    main()\n"
      ],
      "metadata": {
        "id": "Lp5t01Le7fFh"
      },
      "execution_count": null,
      "outputs": []
    }
  ]
}