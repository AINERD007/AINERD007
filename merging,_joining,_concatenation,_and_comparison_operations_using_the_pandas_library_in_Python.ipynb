{
  "nbformat": 4,
  "nbformat_minor": 0,
  "metadata": {
    "colab": {
      "provenance": [],
      "authorship_tag": "ABX9TyP738rMgPz+sCpGylBk9/xn",
      "include_colab_link": true
    },
    "kernelspec": {
      "name": "python3",
      "display_name": "Python 3"
    },
    "language_info": {
      "name": "python"
    }
  },
  "cells": [
    {
      "cell_type": "markdown",
      "metadata": {
        "id": "view-in-github",
        "colab_type": "text"
      },
      "source": [
        "<a href=\"https://colab.research.google.com/github/AINERD007/AINERD007/blob/main/merging%2C_joining%2C_concatenation%2C_and_comparison_operations_using_the_pandas_library_in_Python.ipynb\" target=\"_parent\"><img src=\"https://colab.research.google.com/assets/colab-badge.svg\" alt=\"Open In Colab\"/></a>"
      ]
    },
    {
      "cell_type": "markdown",
      "source": [
        "1. Merging and Joining:\n",
        "\n",
        "Merging and joining are ways to combine data from different DataFrames based on common columns."
      ],
      "metadata": {
        "id": "8tFzsxHiYJFE"
      }
    },
    {
      "cell_type": "code",
      "execution_count": null,
      "metadata": {
        "id": "aXoOBeXvXdWt"
      },
      "outputs": [],
      "source": [
        "pip install pandas\n",
        "import pandas as pd\n"
      ]
    },
    {
      "cell_type": "code",
      "source": [
        "import pandas as pd\n",
        "\n",
        "# Creating two sample DataFrames\n",
        "df1 = pd.DataFrame({'A': ['A0', 'A1', 'A2'],\n",
        "                    'B': ['B0', 'B1', 'B2']})\n",
        "\n",
        "df2 = pd.DataFrame({'A': ['A2', 'A3', 'A4'],\n",
        "                    'C': ['C2', 'C3', 'C4']})\n",
        "\n",
        "# Merge based on a common column 'A'\n",
        "merged_df = pd.merge(df1, df2, on='A')\n",
        "\n",
        "print(merged_df)\n"
      ],
      "metadata": {
        "id": "SMYN8vAcYPDR"
      },
      "execution_count": null,
      "outputs": []
    },
    {
      "cell_type": "markdown",
      "source": [],
      "metadata": {
        "id": "wpGxNZXiYSFx"
      }
    },
    {
      "cell_type": "markdown",
      "source": [
        "2. Concatenation:\n",
        "\n",
        "Concatenation is used to combine multiple DataFrames along a particular axis (either rows or columns)."
      ],
      "metadata": {
        "id": "oK2jEAVzYUv6"
      }
    },
    {
      "cell_type": "code",
      "source": [
        "# Creating two sample DataFrames\n",
        "df1 = pd.DataFrame({'A': ['A0', 'A1', 'A2'],\n",
        "                    'B': ['B0', 'B1', 'B2']})\n",
        "\n",
        "df2 = pd.DataFrame({'A': ['A3', 'A4', 'A5'],\n",
        "                    'B': ['B3', 'B4', 'B5']})\n",
        "\n",
        "# Concatenate along rows\n",
        "concatenated_df = pd.concat([df1, df2], axis=0)\n",
        "\n",
        "print(concatenated_df)\n"
      ],
      "metadata": {
        "id": "G_-JhyjaYWLq"
      },
      "execution_count": null,
      "outputs": []
    },
    {
      "cell_type": "markdown",
      "source": [
        "3. Comparison:\n",
        "\n",
        "You can perform element-wise comparison operations on DataFrames to create Boolean masks."
      ],
      "metadata": {
        "id": "ZjujXF4gYeTY"
      }
    },
    {
      "cell_type": "code",
      "source": [
        "# Creating a sample DataFrame\n",
        "df = pd.DataFrame({'A': [1, 2, 3, 4, 5],\n",
        "                   'B': [5, 4, 3, 2, 1]})\n",
        "\n",
        "# Creating a Boolean mask based on a condition\n",
        "mask = df['A'] > df['B']\n",
        "\n",
        "print(mask)\n"
      ],
      "metadata": {
        "id": "X8vsa0LvYhkd"
      },
      "execution_count": null,
      "outputs": []
    },
    {
      "cell_type": "markdown",
      "source": [],
      "metadata": {
        "id": "66Xx3WOkYjjD"
      }
    },
    {
      "cell_type": "markdown",
      "source": [
        "**1. Merging and Joining: Customer Data Integration**\n",
        "\n",
        "Imagine you have two datasets - one containing customer orders and another with customer details. You want to merge them to get a comprehensive view of customer information and their orders."
      ],
      "metadata": {
        "id": "LCwx7XbeYqHY"
      }
    },
    {
      "cell_type": "code",
      "source": [
        "import pandas as pd\n",
        "\n",
        "# Sample customer orders and details DataFrames\n",
        "orders = pd.DataFrame({'CustomerID': [101, 102, 103],\n",
        "                       'OrderDate': ['2023-01-15', '2023-02-10', '2023-03-20']})\n",
        "\n",
        "customer_details = pd.DataFrame({'CustomerID': [101, 102, 103],\n",
        "                                 'Name': ['Alice', 'Bob', 'Charlie'],\n",
        "                                 'Email': ['alice@example.com', 'bob@example.com', 'charlie@example.com']})\n",
        "\n",
        "# Merging based on 'CustomerID'\n",
        "merged_data = pd.merge(orders, customer_details, on='CustomerID')\n",
        "\n",
        "print(merged_data)\n"
      ],
      "metadata": {
        "colab": {
          "base_uri": "https://localhost:8080/"
        },
        "id": "o1tpQ-hmYywa",
        "outputId": "a4353706-6d0a-4284-82d0-4f5ea4ad858e"
      },
      "execution_count": 1,
      "outputs": [
        {
          "output_type": "stream",
          "name": "stdout",
          "text": [
            "   CustomerID   OrderDate     Name                Email\n",
            "0         101  2023-01-15    Alice    alice@example.com\n",
            "1         102  2023-02-10      Bob      bob@example.com\n",
            "2         103  2023-03-20  Charlie  charlie@example.com\n"
          ]
        }
      ]
    },
    {
      "cell_type": "markdown",
      "source": [
        "**2. Concatenation: Combining Multiple Data Sources**\n",
        "You have data collected from different sources on monthly sales. You want to concatenate these datasets to create a comprehensive sales record."
      ],
      "metadata": {
        "id": "CHb_CjEHZGbo"
      }
    },
    {
      "cell_type": "code",
      "source": [
        "# Sample sales DataFrames\n",
        "sales_jan = pd.DataFrame({'Month': ['January'], 'Sales': [10000]})\n",
        "sales_feb = pd.DataFrame({'Month': ['February'], 'Sales': [12000]})\n",
        "sales_mar = pd.DataFrame({'Month': ['March'], 'Sales': [15000]})\n",
        "\n",
        "# Concatenating along rows\n",
        "concatenated_sales = pd.concat([sales_jan, sales_feb, sales_mar], ignore_index=True)\n",
        "\n",
        "print(concatenated_sales)\n"
      ],
      "metadata": {
        "colab": {
          "base_uri": "https://localhost:8080/"
        },
        "id": "GuWRZM97ZQ4I",
        "outputId": "dade7f0b-1856-4b00-961e-ee29c6110e5c"
      },
      "execution_count": 2,
      "outputs": [
        {
          "output_type": "stream",
          "name": "stdout",
          "text": [
            "      Month  Sales\n",
            "0   January  10000\n",
            "1  February  12000\n",
            "2     March  15000\n"
          ]
        }
      ]
    },
    {
      "cell_type": "markdown",
      "source": [
        "**3. Comparison: Analyzing Stock Prices**\n",
        "\n",
        "You have historical stock price data for two companies and want to compare their performance by identifying days when one company's stock price was higher than the other's."
      ],
      "metadata": {
        "id": "rr0sfplPZZrq"
      }
    },
    {
      "cell_type": "code",
      "source": [
        "# Sample stock price DataFrames\n",
        "company_a = pd.DataFrame({'Date': ['2023-01-01', '2023-01-02', '2023-01-03'],\n",
        "                          'Price': [50, 52, 51]})\n",
        "\n",
        "company_b = pd.DataFrame({'Date': ['2023-01-01', '2023-01-02', '2023-01-03'],\n",
        "                          'Price': [48, 50, 53]})\n",
        "\n",
        "# Creating a Boolean mask for comparison\n",
        "price_comparison = company_a['Price'] > company_b['Price']\n",
        "\n",
        "# Adding comparison result as a new column\n",
        "company_a['PriceHigherThanB'] = price_comparison\n",
        "\n",
        "print(company_a)\n"
      ],
      "metadata": {
        "colab": {
          "base_uri": "https://localhost:8080/"
        },
        "id": "PccEpEgAZbs5",
        "outputId": "841d1924-e61f-44e3-f41d-27bbb4658d47"
      },
      "execution_count": 3,
      "outputs": [
        {
          "output_type": "stream",
          "name": "stdout",
          "text": [
            "         Date  Price  PriceHigherThanB\n",
            "0  2023-01-01     50              True\n",
            "1  2023-01-02     52              True\n",
            "2  2023-01-03     51             False\n"
          ]
        }
      ]
    },
    {
      "cell_type": "markdown",
      "source": [
        "These examples illustrate how merging, joining, concatenation, and comparison operations in pandas can be applied to real-world scenarios, from integrating customer data to analyzing stock prices. By harnessing the power of pandas and Python, you can efficiently manipulate and extract insights from diverse datasets, enhancing your data-driven decision-making capabilities."
      ],
      "metadata": {
        "id": "kraSyc-yZkg2"
      }
    }
  ]
}